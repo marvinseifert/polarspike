{
 "cells": [
  {
   "cell_type": "markdown",
   "id": "20bae14b-a3d6-4420-999e-66fc65e6c43c",
   "metadata": {},
   "source": [
    "# Loading the Spikes\n",
    "This notebook shows all the different ways how you can load spikes from the recording and gives some ideas how to build analysis on the spiketrain dataframe."
   ]
  },
  {
   "cell_type": "code",
   "execution_count": 1,
   "id": "2017a808-7526-449b-81af-7b4a8d0408b6",
   "metadata": {},
   "outputs": [],
   "source": [
    "from importlib import reload  \n",
    "import panel as pn\n",
    "import numpy as np\n",
    "import Overview\n",
    "import polars as pl\n",
    "import stimulus_spikes\n",
    "import plotly.graph_objs as go\n",
    "import matplotlib.pyplot as plt\n",
    "import pandas as pd\n",
    "import spiketrains\n",
    "import stimulus_trace\n",
    "import plotly.express as px"
   ]
  },
  {
   "cell_type": "code",
   "execution_count": 2,
   "id": "4233bc18-c493-42a9-b981-900e86f1c10c",
   "metadata": {},
   "outputs": [],
   "source": [
    "recording = Overview.Recording.load(r\"D:\\Zebrafish_14_11_23\\ks_sorted\\overview\")"
   ]
  },
  {
   "cell_type": "markdown",
   "id": "526485ad-8c14-44c9-afff-c818b020771b",
   "metadata": {},
   "source": [
    "The most straightforward and most explicit way to load the spikes is to use the \"get_spikes_triggered\" function.\n",
    "```python\n",
    "def get_spikes_triggered(\n",
    "            \n",
    "            stimuli,\n",
    "            cells,\n",
    "            time=\"seconds\",\n",
    "            waveforms=False,\n",
    "            pandas=True,\n",
    "            stimulus_df=\"stimulus_df\",\n",
    "            cell_df=\"spikes_df\",\n",
    "    )\n",
    "```\n",
    "The stimuli and cells parameter can be provided as list of lists:\n",
    "Lets look at some examples to make the idea clear."
   ]
  },
  {
   "cell_type": "code",
   "execution_count": 3,
   "id": "6be5add9-d595-4231-b040-39dc82dc957e",
   "metadata": {},
   "outputs": [
    {
     "data": {
      "text/html": [
       "<div>\n",
       "<style scoped>\n",
       "    .dataframe tbody tr th:only-of-type {\n",
       "        vertical-align: middle;\n",
       "    }\n",
       "\n",
       "    .dataframe tbody tr th {\n",
       "        vertical-align: top;\n",
       "    }\n",
       "\n",
       "    .dataframe thead th {\n",
       "        text-align: right;\n",
       "    }\n",
       "</style>\n",
       "<table border=\"1\" class=\"dataframe\">\n",
       "  <thead>\n",
       "    <tr style=\"text-align: right;\">\n",
       "      <th></th>\n",
       "      <th>cell_index</th>\n",
       "      <th>times</th>\n",
       "      <th>times_relative</th>\n",
       "      <th>trigger</th>\n",
       "      <th>repeat</th>\n",
       "      <th>times_triggered</th>\n",
       "      <th>stimulus_index</th>\n",
       "    </tr>\n",
       "  </thead>\n",
       "  <tbody>\n",
       "    <tr>\n",
       "      <th>0</th>\n",
       "      <td>0</td>\n",
       "      <td>9.63615</td>\n",
       "      <td>0.04295</td>\n",
       "      <td>0</td>\n",
       "      <td>0</td>\n",
       "      <td>0.04295</td>\n",
       "      <td>0</td>\n",
       "    </tr>\n",
       "    <tr>\n",
       "      <th>1</th>\n",
       "      <td>0</td>\n",
       "      <td>9.64720</td>\n",
       "      <td>0.05400</td>\n",
       "      <td>0</td>\n",
       "      <td>0</td>\n",
       "      <td>0.05400</td>\n",
       "      <td>0</td>\n",
       "    </tr>\n",
       "    <tr>\n",
       "      <th>2</th>\n",
       "      <td>0</td>\n",
       "      <td>9.65725</td>\n",
       "      <td>0.06405</td>\n",
       "      <td>0</td>\n",
       "      <td>0</td>\n",
       "      <td>0.06405</td>\n",
       "      <td>0</td>\n",
       "    </tr>\n",
       "    <tr>\n",
       "      <th>3</th>\n",
       "      <td>0</td>\n",
       "      <td>9.69115</td>\n",
       "      <td>0.09795</td>\n",
       "      <td>0</td>\n",
       "      <td>0</td>\n",
       "      <td>0.09795</td>\n",
       "      <td>0</td>\n",
       "    </tr>\n",
       "    <tr>\n",
       "      <th>4</th>\n",
       "      <td>0</td>\n",
       "      <td>9.77335</td>\n",
       "      <td>0.18015</td>\n",
       "      <td>0</td>\n",
       "      <td>0</td>\n",
       "      <td>0.18015</td>\n",
       "      <td>0</td>\n",
       "    </tr>\n",
       "    <tr>\n",
       "      <th>...</th>\n",
       "      <td>...</td>\n",
       "      <td>...</td>\n",
       "      <td>...</td>\n",
       "      <td>...</td>\n",
       "      <td>...</td>\n",
       "      <td>...</td>\n",
       "      <td>...</td>\n",
       "    </tr>\n",
       "    <tr>\n",
       "      <th>5414</th>\n",
       "      <td>0</td>\n",
       "      <td>249.66250</td>\n",
       "      <td>240.06930</td>\n",
       "      <td>5</td>\n",
       "      <td>9</td>\n",
       "      <td>23.96535</td>\n",
       "      <td>0</td>\n",
       "    </tr>\n",
       "    <tr>\n",
       "      <th>5415</th>\n",
       "      <td>0</td>\n",
       "      <td>249.66310</td>\n",
       "      <td>240.06990</td>\n",
       "      <td>5</td>\n",
       "      <td>9</td>\n",
       "      <td>23.96595</td>\n",
       "      <td>0</td>\n",
       "    </tr>\n",
       "    <tr>\n",
       "      <th>5416</th>\n",
       "      <td>0</td>\n",
       "      <td>249.67480</td>\n",
       "      <td>240.08160</td>\n",
       "      <td>5</td>\n",
       "      <td>9</td>\n",
       "      <td>23.97765</td>\n",
       "      <td>0</td>\n",
       "    </tr>\n",
       "    <tr>\n",
       "      <th>5417</th>\n",
       "      <td>0</td>\n",
       "      <td>249.68985</td>\n",
       "      <td>240.09665</td>\n",
       "      <td>5</td>\n",
       "      <td>9</td>\n",
       "      <td>23.99270</td>\n",
       "      <td>0</td>\n",
       "    </tr>\n",
       "    <tr>\n",
       "      <th>5418</th>\n",
       "      <td>0</td>\n",
       "      <td>249.69745</td>\n",
       "      <td>240.10425</td>\n",
       "      <td>5</td>\n",
       "      <td>9</td>\n",
       "      <td>24.00030</td>\n",
       "      <td>0</td>\n",
       "    </tr>\n",
       "  </tbody>\n",
       "</table>\n",
       "<p>5419 rows × 7 columns</p>\n",
       "</div>"
      ],
      "text/plain": [
       "      cell_index      times  times_relative  trigger  repeat  times_triggered  \\\n",
       "0              0    9.63615         0.04295        0       0          0.04295   \n",
       "1              0    9.64720         0.05400        0       0          0.05400   \n",
       "2              0    9.65725         0.06405        0       0          0.06405   \n",
       "3              0    9.69115         0.09795        0       0          0.09795   \n",
       "4              0    9.77335         0.18015        0       0          0.18015   \n",
       "...          ...        ...             ...      ...     ...              ...   \n",
       "5414           0  249.66250       240.06930        5       9         23.96535   \n",
       "5415           0  249.66310       240.06990        5       9         23.96595   \n",
       "5416           0  249.67480       240.08160        5       9         23.97765   \n",
       "5417           0  249.68985       240.09665        5       9         23.99270   \n",
       "5418           0  249.69745       240.10425        5       9         24.00030   \n",
       "\n",
       "      stimulus_index  \n",
       "0                  0  \n",
       "1                  0  \n",
       "2                  0  \n",
       "3                  0  \n",
       "4                  0  \n",
       "...              ...  \n",
       "5414               0  \n",
       "5415               0  \n",
       "5416               0  \n",
       "5417               0  \n",
       "5418               0  \n",
       "\n",
       "[5419 rows x 7 columns]"
      ]
     },
     "execution_count": 3,
     "metadata": {},
     "output_type": "execute_result"
    }
   ],
   "source": [
    "# Load one stimulus and one cell\n",
    "recording.get_spikes_triggered([[0]], [[0]])"
   ]
  },
  {
   "cell_type": "code",
   "execution_count": 5,
   "id": "69ddd565-9bd9-489c-8394-f87337c727f2",
   "metadata": {},
   "outputs": [
    {
     "data": {
      "text/html": [
       "<div>\n",
       "<style scoped>\n",
       "    .dataframe tbody tr th:only-of-type {\n",
       "        vertical-align: middle;\n",
       "    }\n",
       "\n",
       "    .dataframe tbody tr th {\n",
       "        vertical-align: top;\n",
       "    }\n",
       "\n",
       "    .dataframe thead th {\n",
       "        text-align: right;\n",
       "    }\n",
       "</style>\n",
       "<table border=\"1\" class=\"dataframe\">\n",
       "  <thead>\n",
       "    <tr style=\"text-align: right;\">\n",
       "      <th></th>\n",
       "      <th>cell_index</th>\n",
       "      <th>times</th>\n",
       "      <th>times_relative</th>\n",
       "      <th>trigger</th>\n",
       "      <th>repeat</th>\n",
       "      <th>times_triggered</th>\n",
       "      <th>stimulus_index</th>\n",
       "    </tr>\n",
       "  </thead>\n",
       "  <tbody>\n",
       "    <tr>\n",
       "      <th>0</th>\n",
       "      <td>0</td>\n",
       "      <td>9.63615</td>\n",
       "      <td>0.04295</td>\n",
       "      <td>0</td>\n",
       "      <td>0</td>\n",
       "      <td>0.04295</td>\n",
       "      <td>0</td>\n",
       "    </tr>\n",
       "    <tr>\n",
       "      <th>1</th>\n",
       "      <td>0</td>\n",
       "      <td>9.64720</td>\n",
       "      <td>0.05400</td>\n",
       "      <td>0</td>\n",
       "      <td>0</td>\n",
       "      <td>0.05400</td>\n",
       "      <td>0</td>\n",
       "    </tr>\n",
       "    <tr>\n",
       "      <th>2</th>\n",
       "      <td>0</td>\n",
       "      <td>9.65725</td>\n",
       "      <td>0.06405</td>\n",
       "      <td>0</td>\n",
       "      <td>0</td>\n",
       "      <td>0.06405</td>\n",
       "      <td>0</td>\n",
       "    </tr>\n",
       "    <tr>\n",
       "      <th>3</th>\n",
       "      <td>0</td>\n",
       "      <td>9.69115</td>\n",
       "      <td>0.09795</td>\n",
       "      <td>0</td>\n",
       "      <td>0</td>\n",
       "      <td>0.09795</td>\n",
       "      <td>0</td>\n",
       "    </tr>\n",
       "    <tr>\n",
       "      <th>4</th>\n",
       "      <td>0</td>\n",
       "      <td>9.77335</td>\n",
       "      <td>0.18015</td>\n",
       "      <td>0</td>\n",
       "      <td>0</td>\n",
       "      <td>0.18015</td>\n",
       "      <td>0</td>\n",
       "    </tr>\n",
       "    <tr>\n",
       "      <th>...</th>\n",
       "      <td>...</td>\n",
       "      <td>...</td>\n",
       "      <td>...</td>\n",
       "      <td>...</td>\n",
       "      <td>...</td>\n",
       "      <td>...</td>\n",
       "      <td>...</td>\n",
       "    </tr>\n",
       "    <tr>\n",
       "      <th>10471</th>\n",
       "      <td>1</td>\n",
       "      <td>249.47495</td>\n",
       "      <td>239.88175</td>\n",
       "      <td>5</td>\n",
       "      <td>9</td>\n",
       "      <td>23.77780</td>\n",
       "      <td>0</td>\n",
       "    </tr>\n",
       "    <tr>\n",
       "      <th>10472</th>\n",
       "      <td>1</td>\n",
       "      <td>249.51690</td>\n",
       "      <td>239.92370</td>\n",
       "      <td>5</td>\n",
       "      <td>9</td>\n",
       "      <td>23.81975</td>\n",
       "      <td>0</td>\n",
       "    </tr>\n",
       "    <tr>\n",
       "      <th>10473</th>\n",
       "      <td>1</td>\n",
       "      <td>249.55105</td>\n",
       "      <td>239.95785</td>\n",
       "      <td>5</td>\n",
       "      <td>9</td>\n",
       "      <td>23.85390</td>\n",
       "      <td>0</td>\n",
       "    </tr>\n",
       "    <tr>\n",
       "      <th>10474</th>\n",
       "      <td>1</td>\n",
       "      <td>249.58790</td>\n",
       "      <td>239.99470</td>\n",
       "      <td>5</td>\n",
       "      <td>9</td>\n",
       "      <td>23.89075</td>\n",
       "      <td>0</td>\n",
       "    </tr>\n",
       "    <tr>\n",
       "      <th>10475</th>\n",
       "      <td>1</td>\n",
       "      <td>249.69000</td>\n",
       "      <td>240.09680</td>\n",
       "      <td>5</td>\n",
       "      <td>9</td>\n",
       "      <td>23.99285</td>\n",
       "      <td>0</td>\n",
       "    </tr>\n",
       "  </tbody>\n",
       "</table>\n",
       "<p>10476 rows × 7 columns</p>\n",
       "</div>"
      ],
      "text/plain": [
       "       cell_index      times  times_relative  trigger  repeat  \\\n",
       "0               0    9.63615         0.04295        0       0   \n",
       "1               0    9.64720         0.05400        0       0   \n",
       "2               0    9.65725         0.06405        0       0   \n",
       "3               0    9.69115         0.09795        0       0   \n",
       "4               0    9.77335         0.18015        0       0   \n",
       "...           ...        ...             ...      ...     ...   \n",
       "10471           1  249.47495       239.88175        5       9   \n",
       "10472           1  249.51690       239.92370        5       9   \n",
       "10473           1  249.55105       239.95785        5       9   \n",
       "10474           1  249.58790       239.99470        5       9   \n",
       "10475           1  249.69000       240.09680        5       9   \n",
       "\n",
       "       times_triggered  stimulus_index  \n",
       "0              0.04295               0  \n",
       "1              0.05400               0  \n",
       "2              0.06405               0  \n",
       "3              0.09795               0  \n",
       "4              0.18015               0  \n",
       "...                ...             ...  \n",
       "10471         23.77780               0  \n",
       "10472         23.81975               0  \n",
       "10473         23.85390               0  \n",
       "10474         23.89075               0  \n",
       "10475         23.99285               0  \n",
       "\n",
       "[10476 rows x 7 columns]"
      ]
     },
     "execution_count": 5,
     "metadata": {},
     "output_type": "execute_result"
    }
   ],
   "source": [
    "# Load one stimulus and two cells:\n",
    "recording.get_spikes_triggered([[0]], [[0, 1]])"
   ]
  },
  {
   "cell_type": "code",
   "execution_count": 6,
   "id": "be3e6a3f-cde4-4b5f-b7da-1ae7ab78b1e5",
   "metadata": {},
   "outputs": [
    {
     "data": {
      "text/html": [
       "<div>\n",
       "<style scoped>\n",
       "    .dataframe tbody tr th:only-of-type {\n",
       "        vertical-align: middle;\n",
       "    }\n",
       "\n",
       "    .dataframe tbody tr th {\n",
       "        vertical-align: top;\n",
       "    }\n",
       "\n",
       "    .dataframe thead th {\n",
       "        text-align: right;\n",
       "    }\n",
       "</style>\n",
       "<table border=\"1\" class=\"dataframe\">\n",
       "  <thead>\n",
       "    <tr style=\"text-align: right;\">\n",
       "      <th></th>\n",
       "      <th>cell_index</th>\n",
       "      <th>times</th>\n",
       "      <th>times_relative</th>\n",
       "      <th>trigger</th>\n",
       "      <th>repeat</th>\n",
       "      <th>times_triggered</th>\n",
       "      <th>stimulus_index</th>\n",
       "    </tr>\n",
       "  </thead>\n",
       "  <tbody>\n",
       "    <tr>\n",
       "      <th>0</th>\n",
       "      <td>0</td>\n",
       "      <td>9.63615</td>\n",
       "      <td>0.04295</td>\n",
       "      <td>0</td>\n",
       "      <td>0</td>\n",
       "      <td>0.04295</td>\n",
       "      <td>0</td>\n",
       "    </tr>\n",
       "    <tr>\n",
       "      <th>1</th>\n",
       "      <td>0</td>\n",
       "      <td>9.64720</td>\n",
       "      <td>0.05400</td>\n",
       "      <td>0</td>\n",
       "      <td>0</td>\n",
       "      <td>0.05400</td>\n",
       "      <td>0</td>\n",
       "    </tr>\n",
       "    <tr>\n",
       "      <th>2</th>\n",
       "      <td>0</td>\n",
       "      <td>9.65725</td>\n",
       "      <td>0.06405</td>\n",
       "      <td>0</td>\n",
       "      <td>0</td>\n",
       "      <td>0.06405</td>\n",
       "      <td>0</td>\n",
       "    </tr>\n",
       "    <tr>\n",
       "      <th>3</th>\n",
       "      <td>0</td>\n",
       "      <td>9.69115</td>\n",
       "      <td>0.09795</td>\n",
       "      <td>0</td>\n",
       "      <td>0</td>\n",
       "      <td>0.09795</td>\n",
       "      <td>0</td>\n",
       "    </tr>\n",
       "    <tr>\n",
       "      <th>4</th>\n",
       "      <td>0</td>\n",
       "      <td>9.77335</td>\n",
       "      <td>0.18015</td>\n",
       "      <td>0</td>\n",
       "      <td>0</td>\n",
       "      <td>0.18015</td>\n",
       "      <td>0</td>\n",
       "    </tr>\n",
       "    <tr>\n",
       "      <th>...</th>\n",
       "      <td>...</td>\n",
       "      <td>...</td>\n",
       "      <td>...</td>\n",
       "      <td>...</td>\n",
       "      <td>...</td>\n",
       "      <td>...</td>\n",
       "      <td>...</td>\n",
       "    </tr>\n",
       "    <tr>\n",
       "      <th>8599</th>\n",
       "      <td>0</td>\n",
       "      <td>443.68820</td>\n",
       "      <td>145.25910</td>\n",
       "      <td>1</td>\n",
       "      <td>3</td>\n",
       "      <td>36.13455</td>\n",
       "      <td>1</td>\n",
       "    </tr>\n",
       "    <tr>\n",
       "      <th>8600</th>\n",
       "      <td>0</td>\n",
       "      <td>443.70100</td>\n",
       "      <td>145.27190</td>\n",
       "      <td>1</td>\n",
       "      <td>3</td>\n",
       "      <td>36.14735</td>\n",
       "      <td>1</td>\n",
       "    </tr>\n",
       "    <tr>\n",
       "      <th>8601</th>\n",
       "      <td>0</td>\n",
       "      <td>443.83465</td>\n",
       "      <td>145.40555</td>\n",
       "      <td>1</td>\n",
       "      <td>3</td>\n",
       "      <td>36.28100</td>\n",
       "      <td>1</td>\n",
       "    </tr>\n",
       "    <tr>\n",
       "      <th>8602</th>\n",
       "      <td>0</td>\n",
       "      <td>443.85320</td>\n",
       "      <td>145.42410</td>\n",
       "      <td>1</td>\n",
       "      <td>3</td>\n",
       "      <td>36.29955</td>\n",
       "      <td>1</td>\n",
       "    </tr>\n",
       "    <tr>\n",
       "      <th>8603</th>\n",
       "      <td>0</td>\n",
       "      <td>443.87170</td>\n",
       "      <td>145.44260</td>\n",
       "      <td>1</td>\n",
       "      <td>3</td>\n",
       "      <td>36.31805</td>\n",
       "      <td>1</td>\n",
       "    </tr>\n",
       "  </tbody>\n",
       "</table>\n",
       "<p>8604 rows × 7 columns</p>\n",
       "</div>"
      ],
      "text/plain": [
       "      cell_index      times  times_relative  trigger  repeat  times_triggered  \\\n",
       "0              0    9.63615         0.04295        0       0          0.04295   \n",
       "1              0    9.64720         0.05400        0       0          0.05400   \n",
       "2              0    9.65725         0.06405        0       0          0.06405   \n",
       "3              0    9.69115         0.09795        0       0          0.09795   \n",
       "4              0    9.77335         0.18015        0       0          0.18015   \n",
       "...          ...        ...             ...      ...     ...              ...   \n",
       "8599           0  443.68820       145.25910        1       3         36.13455   \n",
       "8600           0  443.70100       145.27190        1       3         36.14735   \n",
       "8601           0  443.83465       145.40555        1       3         36.28100   \n",
       "8602           0  443.85320       145.42410        1       3         36.29955   \n",
       "8603           0  443.87170       145.44260        1       3         36.31805   \n",
       "\n",
       "      stimulus_index  \n",
       "0                  0  \n",
       "1                  0  \n",
       "2                  0  \n",
       "3                  0  \n",
       "4                  0  \n",
       "...              ...  \n",
       "8599               1  \n",
       "8600               1  \n",
       "8601               1  \n",
       "8602               1  \n",
       "8603               1  \n",
       "\n",
       "[8604 rows x 7 columns]"
      ]
     },
     "execution_count": 6,
     "metadata": {},
     "output_type": "execute_result"
    }
   ],
   "source": [
    "# Load two stimuli and one cell:\n",
    "recording.get_spikes_triggered([[0], [1]], [[0]])"
   ]
  },
  {
   "cell_type": "code",
   "execution_count": 9,
   "id": "9e6ceae2-b32c-453c-bc2d-505177493d3b",
   "metadata": {},
   "outputs": [
    {
     "data": {
      "text/html": [
       "<div>\n",
       "<style scoped>\n",
       "    .dataframe tbody tr th:only-of-type {\n",
       "        vertical-align: middle;\n",
       "    }\n",
       "\n",
       "    .dataframe tbody tr th {\n",
       "        vertical-align: top;\n",
       "    }\n",
       "\n",
       "    .dataframe thead th {\n",
       "        text-align: right;\n",
       "    }\n",
       "</style>\n",
       "<table border=\"1\" class=\"dataframe\">\n",
       "  <thead>\n",
       "    <tr style=\"text-align: right;\">\n",
       "      <th></th>\n",
       "      <th>cell_index</th>\n",
       "      <th>times</th>\n",
       "      <th>times_relative</th>\n",
       "      <th>trigger</th>\n",
       "      <th>repeat</th>\n",
       "      <th>times_triggered</th>\n",
       "      <th>stimulus_index</th>\n",
       "    </tr>\n",
       "  </thead>\n",
       "  <tbody>\n",
       "    <tr>\n",
       "      <th>0</th>\n",
       "      <td>0</td>\n",
       "      <td>9.63615</td>\n",
       "      <td>0.04295</td>\n",
       "      <td>0</td>\n",
       "      <td>0</td>\n",
       "      <td>0.04295</td>\n",
       "      <td>0</td>\n",
       "    </tr>\n",
       "    <tr>\n",
       "      <th>1</th>\n",
       "      <td>0</td>\n",
       "      <td>9.64720</td>\n",
       "      <td>0.05400</td>\n",
       "      <td>0</td>\n",
       "      <td>0</td>\n",
       "      <td>0.05400</td>\n",
       "      <td>0</td>\n",
       "    </tr>\n",
       "    <tr>\n",
       "      <th>2</th>\n",
       "      <td>0</td>\n",
       "      <td>9.65725</td>\n",
       "      <td>0.06405</td>\n",
       "      <td>0</td>\n",
       "      <td>0</td>\n",
       "      <td>0.06405</td>\n",
       "      <td>0</td>\n",
       "    </tr>\n",
       "    <tr>\n",
       "      <th>3</th>\n",
       "      <td>0</td>\n",
       "      <td>9.69115</td>\n",
       "      <td>0.09795</td>\n",
       "      <td>0</td>\n",
       "      <td>0</td>\n",
       "      <td>0.09795</td>\n",
       "      <td>0</td>\n",
       "    </tr>\n",
       "    <tr>\n",
       "      <th>4</th>\n",
       "      <td>0</td>\n",
       "      <td>9.77335</td>\n",
       "      <td>0.18015</td>\n",
       "      <td>0</td>\n",
       "      <td>0</td>\n",
       "      <td>0.18015</td>\n",
       "      <td>0</td>\n",
       "    </tr>\n",
       "    <tr>\n",
       "      <th>...</th>\n",
       "      <td>...</td>\n",
       "      <td>...</td>\n",
       "      <td>...</td>\n",
       "      <td>...</td>\n",
       "      <td>...</td>\n",
       "      <td>...</td>\n",
       "      <td>...</td>\n",
       "    </tr>\n",
       "    <tr>\n",
       "      <th>16733</th>\n",
       "      <td>1</td>\n",
       "      <td>443.80685</td>\n",
       "      <td>145.37775</td>\n",
       "      <td>1</td>\n",
       "      <td>3</td>\n",
       "      <td>36.25320</td>\n",
       "      <td>1</td>\n",
       "    </tr>\n",
       "    <tr>\n",
       "      <th>16734</th>\n",
       "      <td>1</td>\n",
       "      <td>443.82615</td>\n",
       "      <td>145.39705</td>\n",
       "      <td>1</td>\n",
       "      <td>3</td>\n",
       "      <td>36.27250</td>\n",
       "      <td>1</td>\n",
       "    </tr>\n",
       "    <tr>\n",
       "      <th>16735</th>\n",
       "      <td>1</td>\n",
       "      <td>443.83985</td>\n",
       "      <td>145.41075</td>\n",
       "      <td>1</td>\n",
       "      <td>3</td>\n",
       "      <td>36.28620</td>\n",
       "      <td>1</td>\n",
       "    </tr>\n",
       "    <tr>\n",
       "      <th>16736</th>\n",
       "      <td>1</td>\n",
       "      <td>443.86275</td>\n",
       "      <td>145.43365</td>\n",
       "      <td>1</td>\n",
       "      <td>3</td>\n",
       "      <td>36.30910</td>\n",
       "      <td>1</td>\n",
       "    </tr>\n",
       "    <tr>\n",
       "      <th>16737</th>\n",
       "      <td>1</td>\n",
       "      <td>443.90905</td>\n",
       "      <td>145.47995</td>\n",
       "      <td>1</td>\n",
       "      <td>3</td>\n",
       "      <td>36.35540</td>\n",
       "      <td>1</td>\n",
       "    </tr>\n",
       "  </tbody>\n",
       "</table>\n",
       "<p>16738 rows × 7 columns</p>\n",
       "</div>"
      ],
      "text/plain": [
       "       cell_index      times  times_relative  trigger  repeat  \\\n",
       "0               0    9.63615         0.04295        0       0   \n",
       "1               0    9.64720         0.05400        0       0   \n",
       "2               0    9.65725         0.06405        0       0   \n",
       "3               0    9.69115         0.09795        0       0   \n",
       "4               0    9.77335         0.18015        0       0   \n",
       "...           ...        ...             ...      ...     ...   \n",
       "16733           1  443.80685       145.37775        1       3   \n",
       "16734           1  443.82615       145.39705        1       3   \n",
       "16735           1  443.83985       145.41075        1       3   \n",
       "16736           1  443.86275       145.43365        1       3   \n",
       "16737           1  443.90905       145.47995        1       3   \n",
       "\n",
       "       times_triggered  stimulus_index  \n",
       "0              0.04295               0  \n",
       "1              0.05400               0  \n",
       "2              0.06405               0  \n",
       "3              0.09795               0  \n",
       "4              0.18015               0  \n",
       "...                ...             ...  \n",
       "16733         36.25320               1  \n",
       "16734         36.27250               1  \n",
       "16735         36.28620               1  \n",
       "16736         36.30910               1  \n",
       "16737         36.35540               1  \n",
       "\n",
       "[16738 rows x 7 columns]"
      ]
     },
     "execution_count": 9,
     "metadata": {},
     "output_type": "execute_result"
    }
   ],
   "source": [
    "# Load two stimuli and two cells:\n",
    "recording.get_spikes_triggered([[0], [1]], [[0, 1], [0, 1]])"
   ]
  },
  {
   "cell_type": "code",
   "execution_count": 10,
   "id": "d2dda8e3-67c6-4f54-aee2-791042c0465c",
   "metadata": {},
   "outputs": [
    {
     "data": {
      "text/html": [
       "<div>\n",
       "<style scoped>\n",
       "    .dataframe tbody tr th:only-of-type {\n",
       "        vertical-align: middle;\n",
       "    }\n",
       "\n",
       "    .dataframe tbody tr th {\n",
       "        vertical-align: top;\n",
       "    }\n",
       "\n",
       "    .dataframe thead th {\n",
       "        text-align: right;\n",
       "    }\n",
       "</style>\n",
       "<table border=\"1\" class=\"dataframe\">\n",
       "  <thead>\n",
       "    <tr style=\"text-align: right;\">\n",
       "      <th></th>\n",
       "      <th>cell_index</th>\n",
       "      <th>times</th>\n",
       "      <th>times_relative</th>\n",
       "      <th>trigger</th>\n",
       "      <th>repeat</th>\n",
       "      <th>times_triggered</th>\n",
       "      <th>stimulus_index</th>\n",
       "    </tr>\n",
       "  </thead>\n",
       "  <tbody>\n",
       "    <tr>\n",
       "      <th>0</th>\n",
       "      <td>0</td>\n",
       "      <td>9.63615</td>\n",
       "      <td>0.04295</td>\n",
       "      <td>0</td>\n",
       "      <td>0</td>\n",
       "      <td>0.04295</td>\n",
       "      <td>0</td>\n",
       "    </tr>\n",
       "    <tr>\n",
       "      <th>1</th>\n",
       "      <td>0</td>\n",
       "      <td>9.64720</td>\n",
       "      <td>0.05400</td>\n",
       "      <td>0</td>\n",
       "      <td>0</td>\n",
       "      <td>0.05400</td>\n",
       "      <td>0</td>\n",
       "    </tr>\n",
       "    <tr>\n",
       "      <th>2</th>\n",
       "      <td>0</td>\n",
       "      <td>9.65725</td>\n",
       "      <td>0.06405</td>\n",
       "      <td>0</td>\n",
       "      <td>0</td>\n",
       "      <td>0.06405</td>\n",
       "      <td>0</td>\n",
       "    </tr>\n",
       "    <tr>\n",
       "      <th>3</th>\n",
       "      <td>0</td>\n",
       "      <td>9.69115</td>\n",
       "      <td>0.09795</td>\n",
       "      <td>0</td>\n",
       "      <td>0</td>\n",
       "      <td>0.09795</td>\n",
       "      <td>0</td>\n",
       "    </tr>\n",
       "    <tr>\n",
       "      <th>4</th>\n",
       "      <td>0</td>\n",
       "      <td>9.77335</td>\n",
       "      <td>0.18015</td>\n",
       "      <td>0</td>\n",
       "      <td>0</td>\n",
       "      <td>0.18015</td>\n",
       "      <td>0</td>\n",
       "    </tr>\n",
       "    <tr>\n",
       "      <th>...</th>\n",
       "      <td>...</td>\n",
       "      <td>...</td>\n",
       "      <td>...</td>\n",
       "      <td>...</td>\n",
       "      <td>...</td>\n",
       "      <td>...</td>\n",
       "      <td>...</td>\n",
       "    </tr>\n",
       "    <tr>\n",
       "      <th>8491</th>\n",
       "      <td>1</td>\n",
       "      <td>443.80685</td>\n",
       "      <td>145.37775</td>\n",
       "      <td>1</td>\n",
       "      <td>3</td>\n",
       "      <td>36.25320</td>\n",
       "      <td>1</td>\n",
       "    </tr>\n",
       "    <tr>\n",
       "      <th>8492</th>\n",
       "      <td>1</td>\n",
       "      <td>443.82615</td>\n",
       "      <td>145.39705</td>\n",
       "      <td>1</td>\n",
       "      <td>3</td>\n",
       "      <td>36.27250</td>\n",
       "      <td>1</td>\n",
       "    </tr>\n",
       "    <tr>\n",
       "      <th>8493</th>\n",
       "      <td>1</td>\n",
       "      <td>443.83985</td>\n",
       "      <td>145.41075</td>\n",
       "      <td>1</td>\n",
       "      <td>3</td>\n",
       "      <td>36.28620</td>\n",
       "      <td>1</td>\n",
       "    </tr>\n",
       "    <tr>\n",
       "      <th>8494</th>\n",
       "      <td>1</td>\n",
       "      <td>443.86275</td>\n",
       "      <td>145.43365</td>\n",
       "      <td>1</td>\n",
       "      <td>3</td>\n",
       "      <td>36.30910</td>\n",
       "      <td>1</td>\n",
       "    </tr>\n",
       "    <tr>\n",
       "      <th>8495</th>\n",
       "      <td>1</td>\n",
       "      <td>443.90905</td>\n",
       "      <td>145.47995</td>\n",
       "      <td>1</td>\n",
       "      <td>3</td>\n",
       "      <td>36.35540</td>\n",
       "      <td>1</td>\n",
       "    </tr>\n",
       "  </tbody>\n",
       "</table>\n",
       "<p>8496 rows × 7 columns</p>\n",
       "</div>"
      ],
      "text/plain": [
       "      cell_index      times  times_relative  trigger  repeat  times_triggered  \\\n",
       "0              0    9.63615         0.04295        0       0          0.04295   \n",
       "1              0    9.64720         0.05400        0       0          0.05400   \n",
       "2              0    9.65725         0.06405        0       0          0.06405   \n",
       "3              0    9.69115         0.09795        0       0          0.09795   \n",
       "4              0    9.77335         0.18015        0       0          0.18015   \n",
       "...          ...        ...             ...      ...     ...              ...   \n",
       "8491           1  443.80685       145.37775        1       3         36.25320   \n",
       "8492           1  443.82615       145.39705        1       3         36.27250   \n",
       "8493           1  443.83985       145.41075        1       3         36.28620   \n",
       "8494           1  443.86275       145.43365        1       3         36.30910   \n",
       "8495           1  443.90905       145.47995        1       3         36.35540   \n",
       "\n",
       "      stimulus_index  \n",
       "0                  0  \n",
       "1                  0  \n",
       "2                  0  \n",
       "3                  0  \n",
       "4                  0  \n",
       "...              ...  \n",
       "8491               1  \n",
       "8492               1  \n",
       "8493               1  \n",
       "8494               1  \n",
       "8495               1  \n",
       "\n",
       "[8496 rows x 7 columns]"
      ]
     },
     "execution_count": 10,
     "metadata": {},
     "output_type": "execute_result"
    }
   ],
   "source": [
    "# Load two stimuli and two different cells for each stimulus:\n",
    "recording.get_spikes_triggered([[0], [1]], [[0], [1]])"
   ]
  },
  {
   "cell_type": "code",
   "execution_count": 8,
   "id": "7635cf34-f64d-4648-a6c1-4505e4cec3d6",
   "metadata": {},
   "outputs": [
    {
     "data": {
      "text/html": [
       "<div>\n",
       "<style scoped>\n",
       "    .dataframe tbody tr th:only-of-type {\n",
       "        vertical-align: middle;\n",
       "    }\n",
       "\n",
       "    .dataframe tbody tr th {\n",
       "        vertical-align: top;\n",
       "    }\n",
       "\n",
       "    .dataframe thead th {\n",
       "        text-align: right;\n",
       "    }\n",
       "</style>\n",
       "<table border=\"1\" class=\"dataframe\">\n",
       "  <thead>\n",
       "    <tr style=\"text-align: right;\">\n",
       "      <th></th>\n",
       "      <th>cell_index</th>\n",
       "      <th>times</th>\n",
       "      <th>times_relative</th>\n",
       "      <th>trigger</th>\n",
       "      <th>repeat</th>\n",
       "      <th>times_triggered</th>\n",
       "      <th>stimulus_index</th>\n",
       "    </tr>\n",
       "  </thead>\n",
       "  <tbody>\n",
       "    <tr>\n",
       "      <th>0</th>\n",
       "      <td>0</td>\n",
       "      <td>9.63615</td>\n",
       "      <td>0.04295</td>\n",
       "      <td>0</td>\n",
       "      <td>0</td>\n",
       "      <td>0.04295</td>\n",
       "      <td>0</td>\n",
       "    </tr>\n",
       "    <tr>\n",
       "      <th>1</th>\n",
       "      <td>0</td>\n",
       "      <td>9.64720</td>\n",
       "      <td>0.05400</td>\n",
       "      <td>0</td>\n",
       "      <td>0</td>\n",
       "      <td>0.05400</td>\n",
       "      <td>0</td>\n",
       "    </tr>\n",
       "    <tr>\n",
       "      <th>2</th>\n",
       "      <td>0</td>\n",
       "      <td>9.65725</td>\n",
       "      <td>0.06405</td>\n",
       "      <td>0</td>\n",
       "      <td>0</td>\n",
       "      <td>0.06405</td>\n",
       "      <td>0</td>\n",
       "    </tr>\n",
       "    <tr>\n",
       "      <th>3</th>\n",
       "      <td>0</td>\n",
       "      <td>9.69115</td>\n",
       "      <td>0.09795</td>\n",
       "      <td>0</td>\n",
       "      <td>0</td>\n",
       "      <td>0.09795</td>\n",
       "      <td>0</td>\n",
       "    </tr>\n",
       "    <tr>\n",
       "      <th>4</th>\n",
       "      <td>0</td>\n",
       "      <td>9.77335</td>\n",
       "      <td>0.18015</td>\n",
       "      <td>0</td>\n",
       "      <td>0</td>\n",
       "      <td>0.18015</td>\n",
       "      <td>0</td>\n",
       "    </tr>\n",
       "    <tr>\n",
       "      <th>...</th>\n",
       "      <td>...</td>\n",
       "      <td>...</td>\n",
       "      <td>...</td>\n",
       "      <td>...</td>\n",
       "      <td>...</td>\n",
       "      <td>...</td>\n",
       "      <td>...</td>\n",
       "    </tr>\n",
       "    <tr>\n",
       "      <th>1265687</th>\n",
       "      <td>307</td>\n",
       "      <td>443.31550</td>\n",
       "      <td>144.88640</td>\n",
       "      <td>1</td>\n",
       "      <td>3</td>\n",
       "      <td>35.76185</td>\n",
       "      <td>1</td>\n",
       "    </tr>\n",
       "    <tr>\n",
       "      <th>1265688</th>\n",
       "      <td>307</td>\n",
       "      <td>443.74540</td>\n",
       "      <td>145.31630</td>\n",
       "      <td>1</td>\n",
       "      <td>3</td>\n",
       "      <td>36.19175</td>\n",
       "      <td>1</td>\n",
       "    </tr>\n",
       "    <tr>\n",
       "      <th>1265689</th>\n",
       "      <td>307</td>\n",
       "      <td>443.85550</td>\n",
       "      <td>145.42640</td>\n",
       "      <td>1</td>\n",
       "      <td>3</td>\n",
       "      <td>36.30185</td>\n",
       "      <td>1</td>\n",
       "    </tr>\n",
       "    <tr>\n",
       "      <th>1265690</th>\n",
       "      <td>307</td>\n",
       "      <td>443.88190</td>\n",
       "      <td>145.45280</td>\n",
       "      <td>1</td>\n",
       "      <td>3</td>\n",
       "      <td>36.32825</td>\n",
       "      <td>1</td>\n",
       "    </tr>\n",
       "    <tr>\n",
       "      <th>1265691</th>\n",
       "      <td>307</td>\n",
       "      <td>443.89640</td>\n",
       "      <td>145.46730</td>\n",
       "      <td>1</td>\n",
       "      <td>3</td>\n",
       "      <td>36.34275</td>\n",
       "      <td>1</td>\n",
       "    </tr>\n",
       "  </tbody>\n",
       "</table>\n",
       "<p>1265692 rows × 7 columns</p>\n",
       "</div>"
      ],
      "text/plain": [
       "         cell_index      times  times_relative  trigger  repeat  \\\n",
       "0                 0    9.63615         0.04295        0       0   \n",
       "1                 0    9.64720         0.05400        0       0   \n",
       "2                 0    9.65725         0.06405        0       0   \n",
       "3                 0    9.69115         0.09795        0       0   \n",
       "4                 0    9.77335         0.18015        0       0   \n",
       "...             ...        ...             ...      ...     ...   \n",
       "1265687         307  443.31550       144.88640        1       3   \n",
       "1265688         307  443.74540       145.31630        1       3   \n",
       "1265689         307  443.85550       145.42640        1       3   \n",
       "1265690         307  443.88190       145.45280        1       3   \n",
       "1265691         307  443.89640       145.46730        1       3   \n",
       "\n",
       "         times_triggered  stimulus_index  \n",
       "0                0.04295               0  \n",
       "1                0.05400               0  \n",
       "2                0.06405               0  \n",
       "3                0.09795               0  \n",
       "4                0.18015               0  \n",
       "...                  ...             ...  \n",
       "1265687         35.76185               1  \n",
       "1265688         36.19175               1  \n",
       "1265689         36.30185               1  \n",
       "1265690         36.32825               1  \n",
       "1265691         36.34275               1  \n",
       "\n",
       "[1265692 rows x 7 columns]"
      ]
     },
     "execution_count": 8,
     "metadata": {},
     "output_type": "execute_result"
    }
   ],
   "source": [
    "# Load two stimuli and all cells:\n",
    "recording.get_spikes_triggered([[0], [1]], [[\"all\"]])"
   ]
  },
  {
   "cell_type": "code",
   "execution_count": null,
   "id": "a8c7fa0e-7b42-4365-b9f3-42e37c90cb14",
   "metadata": {},
   "outputs": [],
   "source": [
    "# Load all stimuli and all cells (not run here)\n",
    "recording.get_spikes_triggered([[\"all\"]], [[\"all\"]])"
   ]
  },
  {
   "cell_type": "markdown",
   "id": "48c0ceeb-944e-4940-9f36-b8d74ed46038",
   "metadata": {},
   "source": [
    "## Load as numpy:\n",
    "Spikes can be loaded directly as numpy arrays. In this case, you should only load a single stimulus at a time."
   ]
  },
  {
   "cell_type": "code",
   "execution_count": 4,
   "id": "e438465c-8e5c-4fac-9523-29f8770a9e39",
   "metadata": {},
   "outputs": [
    {
     "data": {
      "text/plain": [
       "(array([array([4.2950000e-02, 5.4000000e-02, 6.4050000e-02, ..., 2.4008160e+02,\n",
       "               2.4009665e+02, 2.4010425e+02])                                  ],\n",
       "       dtype=object),\n",
       " array([0], dtype=object))"
      ]
     },
     "execution_count": 4,
     "metadata": {},
     "output_type": "execute_result"
    }
   ],
   "source": [
    "# Load a single cell\n",
    "recording.get_spikes_as_numpy([0], [0])"
   ]
  },
  {
   "cell_type": "code",
   "execution_count": 5,
   "id": "1b7d66b0-99ee-4948-9404-430f55c6a01e",
   "metadata": {},
   "outputs": [
    {
     "data": {
      "text/plain": [
       "(array([array([4.2950000e-02, 5.4000000e-02, 6.4050000e-02, ..., 2.4008160e+02,\n",
       "               2.4009665e+02, 2.4010425e+02])                                  ,\n",
       "        array([1.0045000e-01, 1.6760000e-01, 1.8080000e-01, ..., 2.3995785e+02,\n",
       "               2.3999470e+02, 2.4009680e+02])                                  ,\n",
       "        array([2.8550000e-02, 4.1800000e-02, 6.8900000e-02, ..., 2.3989640e+02,\n",
       "               2.3995870e+02, 2.4003835e+02])                                  ],\n",
       "       dtype=object),\n",
       " array([0, 1, 2], dtype=object))"
      ]
     },
     "execution_count": 5,
     "metadata": {},
     "output_type": "execute_result"
    }
   ],
   "source": [
    "# Load multiple cells\n",
    "recording.get_spikes_as_numpy([0], [0, 1, 2])"
   ]
  },
  {
   "cell_type": "markdown",
   "id": "dfcf7859-22ad-42e3-9221-aae74bb4a5ed",
   "metadata": {},
   "source": [
    "# Loading using dataframes:\n",
    "This is the most powerful and practical way to load the spikes and organize the data for analysis.\n",
    "Lets say for example, we want to analyse one type of stimulus:"
   ]
  },
  {
   "cell_type": "code",
   "execution_count": 3,
   "id": "7869a8bd-789a-453a-9b89-7aa78e88ce65",
   "metadata": {},
   "outputs": [],
   "source": [
    "# Create a new datraframe by querying the standard frame \n",
    "recording.dataframes[\"fff_analysis\"] = recording.spikes_df.query(\"stimulus_name=='FFF'\")"
   ]
  },
  {
   "cell_type": "markdown",
   "id": "7ac138a7-954c-48ee-9bc6-69e456112323",
   "metadata": {},
   "source": [
    "Lets say we want to only consider cells with at least 20 spikes:"
   ]
  },
  {
   "cell_type": "code",
   "execution_count": 4,
   "id": "683b2c4c-9bd9-4a49-9ea5-353a281000ba",
   "metadata": {},
   "outputs": [],
   "source": [
    "recording.dataframes[\"fff_analysis\"] = recording.dataframes[\"fff_analysis\"].loc[recording.dataframes[\"fff_analysis\"][\"nr_of_spikes\"]>20]"
   ]
  },
  {
   "cell_type": "markdown",
   "id": "d005c286-47b9-4b4c-856f-83c5fcca3fbb",
   "metadata": {},
   "source": [
    "Lets load the data: </br>\n",
    "On the backend, the script will check the stimulus_df and check which stimuli are present in both, \"fff_analysis\" dataframe and \"stimulus_df\" and load all spikes from all cells for all those stimuli."
   ]
  },
  {
   "cell_type": "code",
   "execution_count": 5,
   "id": "b3211583-733e-4344-a6ec-8d001589941a",
   "metadata": {},
   "outputs": [],
   "source": [
    "spikes_df = recording.get_spikes_df(\"fff_analysis\")"
   ]
  },
  {
   "cell_type": "code",
   "execution_count": 6,
   "id": "62fedc3e-edba-49bd-858c-05be5e14b9d7",
   "metadata": {},
   "outputs": [
    {
     "data": {
      "text/html": [
       "<div>\n",
       "<style scoped>\n",
       "    .dataframe tbody tr th:only-of-type {\n",
       "        vertical-align: middle;\n",
       "    }\n",
       "\n",
       "    .dataframe tbody tr th {\n",
       "        vertical-align: top;\n",
       "    }\n",
       "\n",
       "    .dataframe thead th {\n",
       "        text-align: right;\n",
       "    }\n",
       "</style>\n",
       "<table border=\"1\" class=\"dataframe\">\n",
       "  <thead>\n",
       "    <tr style=\"text-align: right;\">\n",
       "      <th></th>\n",
       "      <th>cell_index</th>\n",
       "      <th>times</th>\n",
       "      <th>times_relative</th>\n",
       "      <th>trigger</th>\n",
       "      <th>repeat</th>\n",
       "      <th>times_triggered</th>\n",
       "      <th>stimulus_index</th>\n",
       "    </tr>\n",
       "  </thead>\n",
       "  <tbody>\n",
       "    <tr>\n",
       "      <th>0</th>\n",
       "      <td>0</td>\n",
       "      <td>21260.32235</td>\n",
       "      <td>0.04400</td>\n",
       "      <td>0</td>\n",
       "      <td>0</td>\n",
       "      <td>0.04400</td>\n",
       "      <td>22</td>\n",
       "    </tr>\n",
       "    <tr>\n",
       "      <th>1</th>\n",
       "      <td>0</td>\n",
       "      <td>21260.33865</td>\n",
       "      <td>0.06030</td>\n",
       "      <td>0</td>\n",
       "      <td>0</td>\n",
       "      <td>0.06030</td>\n",
       "      <td>22</td>\n",
       "    </tr>\n",
       "    <tr>\n",
       "      <th>2</th>\n",
       "      <td>0</td>\n",
       "      <td>21260.36225</td>\n",
       "      <td>0.08390</td>\n",
       "      <td>0</td>\n",
       "      <td>0</td>\n",
       "      <td>0.08390</td>\n",
       "      <td>22</td>\n",
       "    </tr>\n",
       "    <tr>\n",
       "      <th>3</th>\n",
       "      <td>0</td>\n",
       "      <td>21260.40235</td>\n",
       "      <td>0.12400</td>\n",
       "      <td>0</td>\n",
       "      <td>0</td>\n",
       "      <td>0.12400</td>\n",
       "      <td>22</td>\n",
       "    </tr>\n",
       "    <tr>\n",
       "      <th>4</th>\n",
       "      <td>0</td>\n",
       "      <td>21260.41245</td>\n",
       "      <td>0.13410</td>\n",
       "      <td>0</td>\n",
       "      <td>0</td>\n",
       "      <td>0.13410</td>\n",
       "      <td>22</td>\n",
       "    </tr>\n",
       "    <tr>\n",
       "      <th>...</th>\n",
       "      <td>...</td>\n",
       "      <td>...</td>\n",
       "      <td>...</td>\n",
       "      <td>...</td>\n",
       "      <td>...</td>\n",
       "      <td>...</td>\n",
       "      <td>...</td>\n",
       "    </tr>\n",
       "    <tr>\n",
       "      <th>6025249</th>\n",
       "      <td>307</td>\n",
       "      <td>248.97740</td>\n",
       "      <td>239.38420</td>\n",
       "      <td>5</td>\n",
       "      <td>9</td>\n",
       "      <td>23.28025</td>\n",
       "      <td>0</td>\n",
       "    </tr>\n",
       "    <tr>\n",
       "      <th>6025250</th>\n",
       "      <td>307</td>\n",
       "      <td>249.17620</td>\n",
       "      <td>239.58300</td>\n",
       "      <td>5</td>\n",
       "      <td>9</td>\n",
       "      <td>23.47905</td>\n",
       "      <td>0</td>\n",
       "    </tr>\n",
       "    <tr>\n",
       "      <th>6025251</th>\n",
       "      <td>307</td>\n",
       "      <td>249.24875</td>\n",
       "      <td>239.65555</td>\n",
       "      <td>5</td>\n",
       "      <td>9</td>\n",
       "      <td>23.55160</td>\n",
       "      <td>0</td>\n",
       "    </tr>\n",
       "    <tr>\n",
       "      <th>6025252</th>\n",
       "      <td>307</td>\n",
       "      <td>249.56790</td>\n",
       "      <td>239.97470</td>\n",
       "      <td>5</td>\n",
       "      <td>9</td>\n",
       "      <td>23.87075</td>\n",
       "      <td>0</td>\n",
       "    </tr>\n",
       "    <tr>\n",
       "      <th>6025253</th>\n",
       "      <td>307</td>\n",
       "      <td>249.62520</td>\n",
       "      <td>240.03200</td>\n",
       "      <td>5</td>\n",
       "      <td>9</td>\n",
       "      <td>23.92805</td>\n",
       "      <td>0</td>\n",
       "    </tr>\n",
       "  </tbody>\n",
       "</table>\n",
       "<p>6025254 rows × 7 columns</p>\n",
       "</div>"
      ],
      "text/plain": [
       "         cell_index        times  times_relative  trigger  repeat  \\\n",
       "0                 0  21260.32235         0.04400        0       0   \n",
       "1                 0  21260.33865         0.06030        0       0   \n",
       "2                 0  21260.36225         0.08390        0       0   \n",
       "3                 0  21260.40235         0.12400        0       0   \n",
       "4                 0  21260.41245         0.13410        0       0   \n",
       "...             ...          ...             ...      ...     ...   \n",
       "6025249         307    248.97740       239.38420        5       9   \n",
       "6025250         307    249.17620       239.58300        5       9   \n",
       "6025251         307    249.24875       239.65555        5       9   \n",
       "6025252         307    249.56790       239.97470        5       9   \n",
       "6025253         307    249.62520       240.03200        5       9   \n",
       "\n",
       "         times_triggered  stimulus_index  \n",
       "0                0.04400              22  \n",
       "1                0.06030              22  \n",
       "2                0.08390              22  \n",
       "3                0.12400              22  \n",
       "4                0.13410              22  \n",
       "...                  ...             ...  \n",
       "6025249         23.28025               0  \n",
       "6025250         23.47905               0  \n",
       "6025251         23.55160               0  \n",
       "6025252         23.87075               0  \n",
       "6025253         23.92805               0  \n",
       "\n",
       "[6025254 rows x 7 columns]"
      ]
     },
     "execution_count": 6,
     "metadata": {},
     "output_type": "execute_result"
    }
   ],
   "source": [
    "spikes_df"
   ]
  },
  {
   "cell_type": "markdown",
   "id": "2f1a77cb-5f96-406a-a804-ebdba7ec9626",
   "metadata": {},
   "source": [
    "Lets double check if it loaded the correct stimuli (just to make the point)"
   ]
  },
  {
   "cell_type": "code",
   "execution_count": 7,
   "id": "236f6dc0-e0dc-49db-adb7-4e2f9231e832",
   "metadata": {},
   "outputs": [
    {
     "data": {
      "text/plain": [
       "array([ 0,  5, 17, 19, 22, 25])"
      ]
     },
     "execution_count": 7,
     "metadata": {},
     "output_type": "execute_result"
    }
   ],
   "source": [
    "np.unique(spikes_df[\"stimulus_index\"])"
   ]
  },
  {
   "cell_type": "markdown",
   "id": "8d3f792d-238b-4d17-8476-044950a4fec2",
   "metadata": {},
   "source": [
    "Looking good! </br>\n",
    "Equally powerfull is to create a new stimulus dataframe. For example, lets say we are interested in what happens every 20 seconds during a stimulus presentation:"
   ]
  },
  {
   "cell_type": "markdown",
   "id": "cdd372cb-e5cc-48cd-801d-119ec408e17b",
   "metadata": {},
   "source": [
    "we can create a new stimulus dataframe and change the trigger arrangement:"
   ]
  },
  {
   "cell_type": "code",
   "execution_count": 10,
   "id": "5104fed8-7f9e-4576-8342-a1e882697d15",
   "metadata": {},
   "outputs": [
    {
     "data": {
      "text/html": [
       "<div>\n",
       "<style scoped>\n",
       "    .dataframe tbody tr th:only-of-type {\n",
       "        vertical-align: middle;\n",
       "    }\n",
       "\n",
       "    .dataframe tbody tr th {\n",
       "        vertical-align: top;\n",
       "    }\n",
       "\n",
       "    .dataframe thead th {\n",
       "        text-align: right;\n",
       "    }\n",
       "</style>\n",
       "<table border=\"1\" class=\"dataframe\">\n",
       "  <thead>\n",
       "    <tr style=\"text-align: right;\">\n",
       "      <th></th>\n",
       "      <th>index</th>\n",
       "      <th>stimulus_name</th>\n",
       "      <th>begin_fr</th>\n",
       "      <th>end_fr</th>\n",
       "      <th>trigger_fr_relative</th>\n",
       "      <th>trigger_int</th>\n",
       "      <th>stimulus_index</th>\n",
       "      <th>stimulus_repeat_logic</th>\n",
       "      <th>stimulus_repeat_sublogic</th>\n",
       "      <th>sampling_freq</th>\n",
       "      <th>recording</th>\n",
       "      <th>trigger_ends</th>\n",
       "      <th>nr_repeats</th>\n",
       "    </tr>\n",
       "  </thead>\n",
       "  <tbody>\n",
       "    <tr>\n",
       "      <th>0</th>\n",
       "      <td>0</td>\n",
       "      <td>FFF</td>\n",
       "      <td>191864</td>\n",
       "      <td>4994176</td>\n",
       "      <td>[0, 80027, 160066, 240105, 320143, 400182, 480...</td>\n",
       "      <td>[80027, 80039, 80039, 80038, 80039, 80039, 800...</td>\n",
       "      <td>0</td>\n",
       "      <td>6</td>\n",
       "      <td>2</td>\n",
       "      <td>20000.0</td>\n",
       "      <td>zebrafish_14_11_23</td>\n",
       "      <td>[80027, 160065, 240104, 320143, 400181, 480220...</td>\n",
       "      <td>10</td>\n",
       "    </tr>\n",
       "    <tr>\n",
       "      <th>1</th>\n",
       "      <td>5</td>\n",
       "      <td>FFF</td>\n",
       "      <td>137207884</td>\n",
       "      <td>142010213</td>\n",
       "      <td>[0, 80042, 160080, 240119, 320158, 400197, 480...</td>\n",
       "      <td>[80042, 80038, 80039, 80039, 80039, 80039, 800...</td>\n",
       "      <td>5</td>\n",
       "      <td>6</td>\n",
       "      <td>2</td>\n",
       "      <td>20000.0</td>\n",
       "      <td>zebrafish_14_11_23</td>\n",
       "      <td>[80038, 160080, 240118, 320157, 400196, 480235...</td>\n",
       "      <td>10</td>\n",
       "    </tr>\n",
       "    <tr>\n",
       "      <th>2</th>\n",
       "      <td>17</td>\n",
       "      <td>FFF</td>\n",
       "      <td>304545052</td>\n",
       "      <td>309267327</td>\n",
       "      <td>[0, 80029, 160068, 240107, 320145, 400184, 480...</td>\n",
       "      <td>[80029, 80039, 80039, 80038, 80039, 80039, 800...</td>\n",
       "      <td>17</td>\n",
       "      <td>6</td>\n",
       "      <td>2</td>\n",
       "      <td>20000.0</td>\n",
       "      <td>zebrafish_14_11_23</td>\n",
       "      <td>[80029, 160067, 240106, 320145, 400184, 480222...</td>\n",
       "      <td>9</td>\n",
       "    </tr>\n",
       "    <tr>\n",
       "      <th>3</th>\n",
       "      <td>19</td>\n",
       "      <td>FFF</td>\n",
       "      <td>413275796</td>\n",
       "      <td>418078126</td>\n",
       "      <td>[0, 80042, 160081, 240119, 320158, 400197, 480...</td>\n",
       "      <td>[80042, 80039, 80038, 80039, 80039, 80039, 800...</td>\n",
       "      <td>19</td>\n",
       "      <td>6</td>\n",
       "      <td>2</td>\n",
       "      <td>20000.0</td>\n",
       "      <td>zebrafish_14_11_23</td>\n",
       "      <td>[80038, 160081, 240119, 320157, 400196, 480235...</td>\n",
       "      <td>10</td>\n",
       "    </tr>\n",
       "    <tr>\n",
       "      <th>4</th>\n",
       "      <td>22</td>\n",
       "      <td>FFF</td>\n",
       "      <td>425205567</td>\n",
       "      <td>430007892</td>\n",
       "      <td>[0, 80040, 160079, 240117, 320156, 400195, 480...</td>\n",
       "      <td>[80040, 80039, 80038, 80039, 80039, 80039, 800...</td>\n",
       "      <td>22</td>\n",
       "      <td>6</td>\n",
       "      <td>2</td>\n",
       "      <td>20000.0</td>\n",
       "      <td>zebrafish_14_11_23</td>\n",
       "      <td>[80038, 160078, 240117, 320156, 400194, 480234...</td>\n",
       "      <td>10</td>\n",
       "    </tr>\n",
       "    <tr>\n",
       "      <th>5</th>\n",
       "      <td>25</td>\n",
       "      <td>FFF</td>\n",
       "      <td>442532474</td>\n",
       "      <td>447334795</td>\n",
       "      <td>[0, 80035, 160074, 240113, 320151, 400190, 480...</td>\n",
       "      <td>[80035, 80039, 80039, 80038, 80039, 80039, 800...</td>\n",
       "      <td>25</td>\n",
       "      <td>6</td>\n",
       "      <td>2</td>\n",
       "      <td>20000.0</td>\n",
       "      <td>zebrafish_14_11_23</td>\n",
       "      <td>[80035, 160073, 240112, 320151, 400189, 480228...</td>\n",
       "      <td>10</td>\n",
       "    </tr>\n",
       "  </tbody>\n",
       "</table>\n",
       "</div>"
      ],
      "text/plain": [
       "   index stimulus_name   begin_fr     end_fr  \\\n",
       "0      0           FFF     191864    4994176   \n",
       "1      5           FFF  137207884  142010213   \n",
       "2     17           FFF  304545052  309267327   \n",
       "3     19           FFF  413275796  418078126   \n",
       "4     22           FFF  425205567  430007892   \n",
       "5     25           FFF  442532474  447334795   \n",
       "\n",
       "                                 trigger_fr_relative  \\\n",
       "0  [0, 80027, 160066, 240105, 320143, 400182, 480...   \n",
       "1  [0, 80042, 160080, 240119, 320158, 400197, 480...   \n",
       "2  [0, 80029, 160068, 240107, 320145, 400184, 480...   \n",
       "3  [0, 80042, 160081, 240119, 320158, 400197, 480...   \n",
       "4  [0, 80040, 160079, 240117, 320156, 400195, 480...   \n",
       "5  [0, 80035, 160074, 240113, 320151, 400190, 480...   \n",
       "\n",
       "                                         trigger_int  stimulus_index  \\\n",
       "0  [80027, 80039, 80039, 80038, 80039, 80039, 800...               0   \n",
       "1  [80042, 80038, 80039, 80039, 80039, 80039, 800...               5   \n",
       "2  [80029, 80039, 80039, 80038, 80039, 80039, 800...              17   \n",
       "3  [80042, 80039, 80038, 80039, 80039, 80039, 800...              19   \n",
       "4  [80040, 80039, 80038, 80039, 80039, 80039, 800...              22   \n",
       "5  [80035, 80039, 80039, 80038, 80039, 80039, 800...              25   \n",
       "\n",
       "   stimulus_repeat_logic  stimulus_repeat_sublogic  sampling_freq  \\\n",
       "0                      6                         2        20000.0   \n",
       "1                      6                         2        20000.0   \n",
       "2                      6                         2        20000.0   \n",
       "3                      6                         2        20000.0   \n",
       "4                      6                         2        20000.0   \n",
       "5                      6                         2        20000.0   \n",
       "\n",
       "            recording                                       trigger_ends  \\\n",
       "0  zebrafish_14_11_23  [80027, 160065, 240104, 320143, 400181, 480220...   \n",
       "1  zebrafish_14_11_23  [80038, 160080, 240118, 320157, 400196, 480235...   \n",
       "2  zebrafish_14_11_23  [80029, 160067, 240106, 320145, 400184, 480222...   \n",
       "3  zebrafish_14_11_23  [80038, 160081, 240119, 320157, 400196, 480235...   \n",
       "4  zebrafish_14_11_23  [80038, 160078, 240117, 320156, 400194, 480234...   \n",
       "5  zebrafish_14_11_23  [80035, 160073, 240112, 320151, 400189, 480228...   \n",
       "\n",
       "   nr_repeats  \n",
       "0          10  \n",
       "1          10  \n",
       "2           9  \n",
       "3          10  \n",
       "4          10  \n",
       "5          10  "
      ]
     },
     "execution_count": 10,
     "metadata": {},
     "output_type": "execute_result"
    }
   ],
   "source": [
    "recording.dataframes[\"fff_stimulus\"] = recording.stimulus_df.query(\"stimulus_name=='FFF'\").copy().reset_index()\n",
    "recording.dataframes[\"fff_stimulus\"]"
   ]
  },
  {
   "cell_type": "code",
   "execution_count": 8,
   "id": "bf46b4b2-36cc-41cf-a3e1-5575efbed92d",
   "metadata": {},
   "outputs": [],
   "source": [
    "import stimulus_dfs"
   ]
  },
  {
   "cell_type": "markdown",
   "id": "6e942a69-bce1-400d-b080-192224502469",
   "metadata": {},
   "source": [
    "We can create a new stimulus by changing the trigger signals of an existing one. The stimulus begin and end remain the same, only the trigger in between will be changed. </br>\n",
    "Here, we create a new trigger signal, with an interval of 2 seconds."
   ]
  },
  {
   "cell_type": "code",
   "execution_count": 13,
   "id": "e00467cb-6e56-4163-967d-2c08f949f769",
   "metadata": {},
   "outputs": [],
   "source": [
    "recording.dataframes[\"fff_stimulus_2s_trigger\"] = stimulus_dfs.add_trigger_int(recording.dataframes[\"fff_stimulus\"], stimulus_id=[\"all\"], interval=2, new_logic=12, new_sublogic=1)"
   ]
  },
  {
   "cell_type": "markdown",
   "id": "baf7d500-8403-4891-81c5-5e04ea814a5d",
   "metadata": {},
   "source": [
    "And we can load the spikes accordingly"
   ]
  },
  {
   "cell_type": "code",
   "execution_count": 15,
   "id": "b775dd65-97b5-44f3-854a-c384cb300170",
   "metadata": {},
   "outputs": [
    {
     "data": {
      "text/html": [
       "<div>\n",
       "<style scoped>\n",
       "    .dataframe tbody tr th:only-of-type {\n",
       "        vertical-align: middle;\n",
       "    }\n",
       "\n",
       "    .dataframe tbody tr th {\n",
       "        vertical-align: top;\n",
       "    }\n",
       "\n",
       "    .dataframe thead th {\n",
       "        text-align: right;\n",
       "    }\n",
       "</style>\n",
       "<table border=\"1\" class=\"dataframe\">\n",
       "  <thead>\n",
       "    <tr style=\"text-align: right;\">\n",
       "      <th></th>\n",
       "      <th>cell_index</th>\n",
       "      <th>times</th>\n",
       "      <th>times_relative</th>\n",
       "      <th>trigger</th>\n",
       "      <th>repeat</th>\n",
       "      <th>times_triggered</th>\n",
       "      <th>stimulus_index</th>\n",
       "    </tr>\n",
       "  </thead>\n",
       "  <tbody>\n",
       "    <tr>\n",
       "      <th>0</th>\n",
       "      <td>0</td>\n",
       "      <td>21260.32235</td>\n",
       "      <td>0.04400</td>\n",
       "      <td>0</td>\n",
       "      <td>0</td>\n",
       "      <td>0.04400</td>\n",
       "      <td>22</td>\n",
       "    </tr>\n",
       "    <tr>\n",
       "      <th>1</th>\n",
       "      <td>0</td>\n",
       "      <td>21260.33865</td>\n",
       "      <td>0.06030</td>\n",
       "      <td>0</td>\n",
       "      <td>0</td>\n",
       "      <td>0.06030</td>\n",
       "      <td>22</td>\n",
       "    </tr>\n",
       "    <tr>\n",
       "      <th>2</th>\n",
       "      <td>0</td>\n",
       "      <td>21260.36225</td>\n",
       "      <td>0.08390</td>\n",
       "      <td>0</td>\n",
       "      <td>0</td>\n",
       "      <td>0.08390</td>\n",
       "      <td>22</td>\n",
       "    </tr>\n",
       "    <tr>\n",
       "      <th>3</th>\n",
       "      <td>0</td>\n",
       "      <td>21260.40235</td>\n",
       "      <td>0.12400</td>\n",
       "      <td>0</td>\n",
       "      <td>0</td>\n",
       "      <td>0.12400</td>\n",
       "      <td>22</td>\n",
       "    </tr>\n",
       "    <tr>\n",
       "      <th>4</th>\n",
       "      <td>0</td>\n",
       "      <td>21260.41245</td>\n",
       "      <td>0.13410</td>\n",
       "      <td>0</td>\n",
       "      <td>0</td>\n",
       "      <td>0.13410</td>\n",
       "      <td>22</td>\n",
       "    </tr>\n",
       "    <tr>\n",
       "      <th>...</th>\n",
       "      <td>...</td>\n",
       "      <td>...</td>\n",
       "      <td>...</td>\n",
       "      <td>...</td>\n",
       "      <td>...</td>\n",
       "      <td>...</td>\n",
       "      <td>...</td>\n",
       "    </tr>\n",
       "    <tr>\n",
       "      <th>6061723</th>\n",
       "      <td>305</td>\n",
       "      <td>22366.67585</td>\n",
       "      <td>240.05215</td>\n",
       "      <td>0</td>\n",
       "      <td>10</td>\n",
       "      <td>0.05215</td>\n",
       "      <td>25</td>\n",
       "    </tr>\n",
       "    <tr>\n",
       "      <th>6061724</th>\n",
       "      <td>305</td>\n",
       "      <td>22366.70745</td>\n",
       "      <td>240.08375</td>\n",
       "      <td>0</td>\n",
       "      <td>10</td>\n",
       "      <td>0.08375</td>\n",
       "      <td>25</td>\n",
       "    </tr>\n",
       "    <tr>\n",
       "      <th>6061725</th>\n",
       "      <td>305</td>\n",
       "      <td>22366.72600</td>\n",
       "      <td>240.10230</td>\n",
       "      <td>0</td>\n",
       "      <td>10</td>\n",
       "      <td>0.10230</td>\n",
       "      <td>25</td>\n",
       "    </tr>\n",
       "    <tr>\n",
       "      <th>6061726</th>\n",
       "      <td>307</td>\n",
       "      <td>22366.63890</td>\n",
       "      <td>240.01520</td>\n",
       "      <td>0</td>\n",
       "      <td>10</td>\n",
       "      <td>0.01520</td>\n",
       "      <td>25</td>\n",
       "    </tr>\n",
       "    <tr>\n",
       "      <th>6061727</th>\n",
       "      <td>307</td>\n",
       "      <td>22366.73190</td>\n",
       "      <td>240.10820</td>\n",
       "      <td>0</td>\n",
       "      <td>10</td>\n",
       "      <td>0.10820</td>\n",
       "      <td>25</td>\n",
       "    </tr>\n",
       "  </tbody>\n",
       "</table>\n",
       "<p>6061728 rows × 7 columns</p>\n",
       "</div>"
      ],
      "text/plain": [
       "         cell_index        times  times_relative  trigger  repeat  \\\n",
       "0                 0  21260.32235         0.04400        0       0   \n",
       "1                 0  21260.33865         0.06030        0       0   \n",
       "2                 0  21260.36225         0.08390        0       0   \n",
       "3                 0  21260.40235         0.12400        0       0   \n",
       "4                 0  21260.41245         0.13410        0       0   \n",
       "...             ...          ...             ...      ...     ...   \n",
       "6061723         305  22366.67585       240.05215        0      10   \n",
       "6061724         305  22366.70745       240.08375        0      10   \n",
       "6061725         305  22366.72600       240.10230        0      10   \n",
       "6061726         307  22366.63890       240.01520        0      10   \n",
       "6061727         307  22366.73190       240.10820        0      10   \n",
       "\n",
       "         times_triggered  stimulus_index  \n",
       "0                0.04400              22  \n",
       "1                0.06030              22  \n",
       "2                0.08390              22  \n",
       "3                0.12400              22  \n",
       "4                0.13410              22  \n",
       "...                  ...             ...  \n",
       "6061723          0.05215              25  \n",
       "6061724          0.08375              25  \n",
       "6061725          0.10230              25  \n",
       "6061726          0.01520              25  \n",
       "6061727          0.10820              25  \n",
       "\n",
       "[6061728 rows x 7 columns]"
      ]
     },
     "execution_count": 15,
     "metadata": {},
     "output_type": "execute_result"
    }
   ],
   "source": [
    "spikes_df = recording.get_spikes_df(stimulus_df = \"fff_stimulus_2s_trigger\")\n",
    "spikes_df"
   ]
  },
  {
   "cell_type": "markdown",
   "id": "c69cfa1b-c1c5-435e-9c5e-61714adc17a7",
   "metadata": {},
   "source": [
    "Obviously, now we have many more trigger than before. We can check if everything is correct."
   ]
  },
  {
   "cell_type": "code",
   "execution_count": 16,
   "id": "358e7ac5-f24d-41c3-a2bc-49b92cac80ce",
   "metadata": {},
   "outputs": [
    {
     "data": {
      "text/plain": [
       "11"
      ]
     },
     "execution_count": 16,
     "metadata": {},
     "output_type": "execute_result"
    }
   ],
   "source": [
    "spikes_df[\"trigger\"].max()"
   ]
  },
  {
   "cell_type": "markdown",
   "id": "b0462e19-def2-4d6e-9fa2-63b4f357edf8",
   "metadata": {},
   "source": [
    "Looking good. Since we have set the repeat logic to 12, the max trigger should be 11 here."
   ]
  },
  {
   "cell_type": "markdown",
   "id": "d8a32c5d-0679-4941-af9e-16c76a411d30",
   "metadata": {},
   "source": [
    "## Analysis Ideas\n",
    "Ok, time for an example, how this might be usefull. Lets say we have played 6 wavelengths of full field flashes. To determine how sustained the response is, we want to calculate how many spikes are present 0-0.2s and 0.2-0.4 s after each trigger. "
   ]
  },
  {
   "cell_type": "code",
   "execution_count": 35,
   "id": "b177eff6-8ac3-41a0-9ff3-b2c30d75ba4d",
   "metadata": {},
   "outputs": [
    {
     "data": {
      "text/html": [
       "<div>\n",
       "<style scoped>\n",
       "    .dataframe tbody tr th:only-of-type {\n",
       "        vertical-align: middle;\n",
       "    }\n",
       "\n",
       "    .dataframe tbody tr th {\n",
       "        vertical-align: top;\n",
       "    }\n",
       "\n",
       "    .dataframe thead th {\n",
       "        text-align: right;\n",
       "    }\n",
       "</style>\n",
       "<table border=\"1\" class=\"dataframe\">\n",
       "  <thead>\n",
       "    <tr style=\"text-align: right;\">\n",
       "      <th></th>\n",
       "      <th>index</th>\n",
       "      <th>stimulus_name</th>\n",
       "      <th>begin_fr</th>\n",
       "      <th>end_fr</th>\n",
       "      <th>trigger_fr_relative</th>\n",
       "      <th>trigger_int</th>\n",
       "      <th>stimulus_index</th>\n",
       "      <th>stimulus_repeat_logic</th>\n",
       "      <th>stimulus_repeat_sublogic</th>\n",
       "      <th>sampling_freq</th>\n",
       "      <th>recording</th>\n",
       "      <th>trigger_ends</th>\n",
       "      <th>nr_repeats</th>\n",
       "    </tr>\n",
       "  </thead>\n",
       "  <tbody>\n",
       "    <tr>\n",
       "      <th>0</th>\n",
       "      <td>0</td>\n",
       "      <td>FFF</td>\n",
       "      <td>191864</td>\n",
       "      <td>4994176</td>\n",
       "      <td>[0, 80027, 160066, 240105, 320143, 400182, 480...</td>\n",
       "      <td>[80027, 80039, 80039, 80038, 80039, 80039, 800...</td>\n",
       "      <td>0</td>\n",
       "      <td>6</td>\n",
       "      <td>2</td>\n",
       "      <td>20000.0</td>\n",
       "      <td>zebrafish_14_11_23</td>\n",
       "      <td>[80027, 160065, 240104, 320143, 400181, 480220...</td>\n",
       "      <td>10</td>\n",
       "    </tr>\n",
       "    <tr>\n",
       "      <th>1</th>\n",
       "      <td>5</td>\n",
       "      <td>FFF</td>\n",
       "      <td>137207884</td>\n",
       "      <td>142010213</td>\n",
       "      <td>[0, 80042, 160080, 240119, 320158, 400197, 480...</td>\n",
       "      <td>[80042, 80038, 80039, 80039, 80039, 80039, 800...</td>\n",
       "      <td>5</td>\n",
       "      <td>6</td>\n",
       "      <td>2</td>\n",
       "      <td>20000.0</td>\n",
       "      <td>zebrafish_14_11_23</td>\n",
       "      <td>[80038, 160080, 240118, 320157, 400196, 480235...</td>\n",
       "      <td>10</td>\n",
       "    </tr>\n",
       "    <tr>\n",
       "      <th>2</th>\n",
       "      <td>17</td>\n",
       "      <td>FFF</td>\n",
       "      <td>304545052</td>\n",
       "      <td>309267327</td>\n",
       "      <td>[0, 80029, 160068, 240107, 320145, 400184, 480...</td>\n",
       "      <td>[80029, 80039, 80039, 80038, 80039, 80039, 800...</td>\n",
       "      <td>17</td>\n",
       "      <td>6</td>\n",
       "      <td>2</td>\n",
       "      <td>20000.0</td>\n",
       "      <td>zebrafish_14_11_23</td>\n",
       "      <td>[80029, 160067, 240106, 320145, 400184, 480222...</td>\n",
       "      <td>9</td>\n",
       "    </tr>\n",
       "    <tr>\n",
       "      <th>3</th>\n",
       "      <td>19</td>\n",
       "      <td>FFF</td>\n",
       "      <td>413275796</td>\n",
       "      <td>418078126</td>\n",
       "      <td>[0, 80042, 160081, 240119, 320158, 400197, 480...</td>\n",
       "      <td>[80042, 80039, 80038, 80039, 80039, 80039, 800...</td>\n",
       "      <td>19</td>\n",
       "      <td>6</td>\n",
       "      <td>2</td>\n",
       "      <td>20000.0</td>\n",
       "      <td>zebrafish_14_11_23</td>\n",
       "      <td>[80038, 160081, 240119, 320157, 400196, 480235...</td>\n",
       "      <td>10</td>\n",
       "    </tr>\n",
       "    <tr>\n",
       "      <th>4</th>\n",
       "      <td>22</td>\n",
       "      <td>FFF</td>\n",
       "      <td>425205567</td>\n",
       "      <td>430007892</td>\n",
       "      <td>[0, 80040, 160079, 240117, 320156, 400195, 480...</td>\n",
       "      <td>[80040, 80039, 80038, 80039, 80039, 80039, 800...</td>\n",
       "      <td>22</td>\n",
       "      <td>6</td>\n",
       "      <td>2</td>\n",
       "      <td>20000.0</td>\n",
       "      <td>zebrafish_14_11_23</td>\n",
       "      <td>[80038, 160078, 240117, 320156, 400194, 480234...</td>\n",
       "      <td>10</td>\n",
       "    </tr>\n",
       "    <tr>\n",
       "      <th>5</th>\n",
       "      <td>25</td>\n",
       "      <td>FFF</td>\n",
       "      <td>442532474</td>\n",
       "      <td>447334795</td>\n",
       "      <td>[0, 80035, 160074, 240113, 320151, 400190, 480...</td>\n",
       "      <td>[80035, 80039, 80039, 80038, 80039, 80039, 800...</td>\n",
       "      <td>25</td>\n",
       "      <td>6</td>\n",
       "      <td>2</td>\n",
       "      <td>20000.0</td>\n",
       "      <td>zebrafish_14_11_23</td>\n",
       "      <td>[80035, 160073, 240112, 320151, 400189, 480228...</td>\n",
       "      <td>10</td>\n",
       "    </tr>\n",
       "  </tbody>\n",
       "</table>\n",
       "</div>"
      ],
      "text/plain": [
       "   index stimulus_name   begin_fr     end_fr  \\\n",
       "0      0           FFF     191864    4994176   \n",
       "1      5           FFF  137207884  142010213   \n",
       "2     17           FFF  304545052  309267327   \n",
       "3     19           FFF  413275796  418078126   \n",
       "4     22           FFF  425205567  430007892   \n",
       "5     25           FFF  442532474  447334795   \n",
       "\n",
       "                                 trigger_fr_relative  \\\n",
       "0  [0, 80027, 160066, 240105, 320143, 400182, 480...   \n",
       "1  [0, 80042, 160080, 240119, 320158, 400197, 480...   \n",
       "2  [0, 80029, 160068, 240107, 320145, 400184, 480...   \n",
       "3  [0, 80042, 160081, 240119, 320158, 400197, 480...   \n",
       "4  [0, 80040, 160079, 240117, 320156, 400195, 480...   \n",
       "5  [0, 80035, 160074, 240113, 320151, 400190, 480...   \n",
       "\n",
       "                                         trigger_int  stimulus_index  \\\n",
       "0  [80027, 80039, 80039, 80038, 80039, 80039, 800...               0   \n",
       "1  [80042, 80038, 80039, 80039, 80039, 80039, 800...               5   \n",
       "2  [80029, 80039, 80039, 80038, 80039, 80039, 800...              17   \n",
       "3  [80042, 80039, 80038, 80039, 80039, 80039, 800...              19   \n",
       "4  [80040, 80039, 80038, 80039, 80039, 80039, 800...              22   \n",
       "5  [80035, 80039, 80039, 80038, 80039, 80039, 800...              25   \n",
       "\n",
       "   stimulus_repeat_logic  stimulus_repeat_sublogic  sampling_freq  \\\n",
       "0                      6                         2        20000.0   \n",
       "1                      6                         2        20000.0   \n",
       "2                      6                         2        20000.0   \n",
       "3                      6                         2        20000.0   \n",
       "4                      6                         2        20000.0   \n",
       "5                      6                         2        20000.0   \n",
       "\n",
       "            recording                                       trigger_ends  \\\n",
       "0  zebrafish_14_11_23  [80027, 160065, 240104, 320143, 400181, 480220...   \n",
       "1  zebrafish_14_11_23  [80038, 160080, 240118, 320157, 400196, 480235...   \n",
       "2  zebrafish_14_11_23  [80029, 160067, 240106, 320145, 400184, 480222...   \n",
       "3  zebrafish_14_11_23  [80038, 160081, 240119, 320157, 400196, 480235...   \n",
       "4  zebrafish_14_11_23  [80038, 160078, 240117, 320156, 400194, 480234...   \n",
       "5  zebrafish_14_11_23  [80035, 160073, 240112, 320151, 400189, 480228...   \n",
       "\n",
       "   nr_repeats  \n",
       "0          10  \n",
       "1          10  \n",
       "2           9  \n",
       "3          10  \n",
       "4          10  \n",
       "5          10  "
      ]
     },
     "execution_count": 35,
     "metadata": {},
     "output_type": "execute_result"
    }
   ],
   "source": [
    "recording.dataframes[\"fff_sus_tran\"] = recording.stimulus_df.query(\"stimulus_name=='FFF'\").copy().reset_index()\n",
    "recording.dataframes[\"fff_sus_tran\"]"
   ]
  },
  {
   "cell_type": "code",
   "execution_count": 30,
   "id": "11d58fef-6c67-438e-b7cb-899c01ad18fa",
   "metadata": {},
   "outputs": [],
   "source": [
    "trigger = recording.dataframes[\"fff_sus_tran\"][\"trigger_fr_relative\"].to_numpy()\n",
    "interval = 0.2*recording.sampling_freq\n",
    "new_trigger = np.empty_like(trigger, dtype=object)\n",
    "for idx, stimulus in enumerate(trigger):\n",
    "    trigger_temp = np.zeros((stimulus.shape[0]*3))\n",
    "    trigger_02 = stimulus+interval\n",
    "    trigger_04 = stimulus+interval*2\n",
    "    trigger_temp[::3] = stimulus\n",
    "    trigger_temp[1::3] = trigger_02\n",
    "    trigger_temp[2::3] = trigger_04\n",
    "    new_trigger[idx] = trigger_temp.astype(int)\n",
    "    "
   ]
  },
  {
   "cell_type": "markdown",
   "id": "906722e1-0d5f-4a8e-adf7-8b7a04d5846b",
   "metadata": {},
   "source": [
    "Lets do a sanity plot:"
   ]
  },
  {
   "cell_type": "code",
   "execution_count": 34,
   "id": "be994798-1f7c-461a-8cba-5e43c215de29",
   "metadata": {},
   "outputs": [
    {
     "data": {
      "application/vnd.plotly.v1+json": {
       "config": {
        "plotlyServerURL": "https://plotly.com"
       },
       "data": [
        {
         "hovertemplate": "x=%{x}<br>y=%{y}<extra></extra>",
         "legendgroup": "",
         "marker": {
          "color": "#636efa",
          "symbol": "circle"
         },
         "mode": "markers",
         "name": "",
         "orientation": "v",
         "showlegend": false,
         "type": "scatter",
         "x": [
          0,
          4000,
          8000,
          80027,
          84027,
          88027,
          160066,
          164066,
          168066,
          240105,
          244105,
          248105,
          320143,
          324143,
          328143,
          400182,
          404182,
          408182,
          480221,
          484221,
          488221,
          560259,
          564259,
          568259,
          640298,
          644298,
          648298,
          720337,
          724337,
          728337,
          800376,
          804376,
          808376,
          880414,
          884414,
          888414,
          960453,
          964453,
          968453,
          1040492,
          1044492,
          1048492,
          1120530,
          1124530,
          1128530,
          1200569,
          1204569,
          1208569,
          1280608,
          1284608,
          1288608,
          1360647,
          1364647,
          1368647,
          1440686,
          1444686,
          1448686,
          1520724,
          1524724,
          1528724,
          1600763,
          1604763,
          1608763,
          1680801,
          1684801,
          1688801,
          1760840,
          1764840,
          1768840,
          1840879,
          1844879,
          1848879,
          1920918,
          1924918,
          1928918,
          2000956,
          2004956,
          2008956,
          2080995,
          2084995,
          2088995,
          2161034,
          2165034,
          2169034,
          2241073,
          2245073,
          2249073,
          2321111,
          2325111,
          2329111,
          2401150,
          2405150,
          2409150,
          2481189,
          2485189,
          2489189,
          2561227,
          2565227,
          2569227,
          2641266,
          2645266,
          2649266,
          2721305,
          2725305,
          2729305,
          2801344,
          2805344,
          2809344,
          2881383,
          2885383,
          2889383,
          2961421,
          2965421,
          2969421,
          3041460,
          3045460,
          3049460,
          3121498,
          3125498,
          3129498,
          3201537,
          3205537,
          3209537,
          3281576,
          3285576,
          3289576,
          3361615,
          3365615,
          3369615,
          3441653,
          3445653,
          3449653,
          3521692,
          3525692,
          3529692,
          3601731,
          3605731,
          3609731,
          3681769,
          3685769,
          3689769,
          3761808,
          3765808,
          3769808,
          3841847,
          3845847,
          3849847,
          3921886,
          3925886,
          3929886,
          4001924,
          4005924,
          4009924,
          4081963,
          4085963,
          4089963,
          4162002,
          4166002,
          4170002,
          4242041,
          4246041,
          4250041,
          4322079,
          4326079,
          4330079,
          4402118,
          4406118,
          4410118,
          4482157,
          4486157,
          4490157,
          4562195,
          4566195,
          4570195,
          4642234,
          4646234,
          4650234,
          4722273,
          4726273,
          4730273,
          4802312,
          4806312,
          4810312
         ],
         "xaxis": "x",
         "y": [
          1,
          1,
          1,
          1,
          1,
          1,
          1,
          1,
          1,
          1,
          1,
          1,
          1,
          1,
          1,
          1,
          1,
          1,
          1,
          1,
          1,
          1,
          1,
          1,
          1,
          1,
          1,
          1,
          1,
          1,
          1,
          1,
          1,
          1,
          1,
          1,
          1,
          1,
          1,
          1,
          1,
          1,
          1,
          1,
          1,
          1,
          1,
          1,
          1,
          1,
          1,
          1,
          1,
          1,
          1,
          1,
          1,
          1,
          1,
          1,
          1,
          1,
          1,
          1,
          1,
          1,
          1,
          1,
          1,
          1,
          1,
          1,
          1,
          1,
          1,
          1,
          1,
          1,
          1,
          1,
          1,
          1,
          1,
          1,
          1,
          1,
          1,
          1,
          1,
          1,
          1,
          1,
          1,
          1,
          1,
          1,
          1,
          1,
          1,
          1,
          1,
          1,
          1,
          1,
          1,
          1,
          1,
          1,
          1,
          1,
          1,
          1,
          1,
          1,
          1,
          1,
          1,
          1,
          1,
          1,
          1,
          1,
          1,
          1,
          1,
          1,
          1,
          1,
          1,
          1,
          1,
          1,
          1,
          1,
          1,
          1,
          1,
          1,
          1,
          1,
          1,
          1,
          1,
          1,
          1,
          1,
          1,
          1,
          1,
          1,
          1,
          1,
          1,
          1,
          1,
          1,
          1,
          1,
          1,
          1,
          1,
          1,
          1,
          1,
          1,
          1,
          1,
          1,
          1,
          1,
          1,
          1,
          1,
          1,
          1,
          1,
          1,
          1,
          1,
          1,
          1,
          1,
          1
         ],
         "yaxis": "y"
        }
       ],
       "layout": {
        "autosize": true,
        "legend": {
         "tracegroupgap": 0
        },
        "margin": {
         "t": 60
        },
        "template": {
         "data": {
          "bar": [
           {
            "error_x": {
             "color": "#2a3f5f"
            },
            "error_y": {
             "color": "#2a3f5f"
            },
            "marker": {
             "line": {
              "color": "#E5ECF6",
              "width": 0.5
             },
             "pattern": {
              "fillmode": "overlay",
              "size": 10,
              "solidity": 0.2
             }
            },
            "type": "bar"
           }
          ],
          "barpolar": [
           {
            "marker": {
             "line": {
              "color": "#E5ECF6",
              "width": 0.5
             },
             "pattern": {
              "fillmode": "overlay",
              "size": 10,
              "solidity": 0.2
             }
            },
            "type": "barpolar"
           }
          ],
          "carpet": [
           {
            "aaxis": {
             "endlinecolor": "#2a3f5f",
             "gridcolor": "white",
             "linecolor": "white",
             "minorgridcolor": "white",
             "startlinecolor": "#2a3f5f"
            },
            "baxis": {
             "endlinecolor": "#2a3f5f",
             "gridcolor": "white",
             "linecolor": "white",
             "minorgridcolor": "white",
             "startlinecolor": "#2a3f5f"
            },
            "type": "carpet"
           }
          ],
          "choropleth": [
           {
            "colorbar": {
             "outlinewidth": 0,
             "ticks": ""
            },
            "type": "choropleth"
           }
          ],
          "contour": [
           {
            "colorbar": {
             "outlinewidth": 0,
             "ticks": ""
            },
            "colorscale": [
             [
              0,
              "#0d0887"
             ],
             [
              0.1111111111111111,
              "#46039f"
             ],
             [
              0.2222222222222222,
              "#7201a8"
             ],
             [
              0.3333333333333333,
              "#9c179e"
             ],
             [
              0.4444444444444444,
              "#bd3786"
             ],
             [
              0.5555555555555556,
              "#d8576b"
             ],
             [
              0.6666666666666666,
              "#ed7953"
             ],
             [
              0.7777777777777778,
              "#fb9f3a"
             ],
             [
              0.8888888888888888,
              "#fdca26"
             ],
             [
              1,
              "#f0f921"
             ]
            ],
            "type": "contour"
           }
          ],
          "contourcarpet": [
           {
            "colorbar": {
             "outlinewidth": 0,
             "ticks": ""
            },
            "type": "contourcarpet"
           }
          ],
          "heatmap": [
           {
            "colorbar": {
             "outlinewidth": 0,
             "ticks": ""
            },
            "colorscale": [
             [
              0,
              "#0d0887"
             ],
             [
              0.1111111111111111,
              "#46039f"
             ],
             [
              0.2222222222222222,
              "#7201a8"
             ],
             [
              0.3333333333333333,
              "#9c179e"
             ],
             [
              0.4444444444444444,
              "#bd3786"
             ],
             [
              0.5555555555555556,
              "#d8576b"
             ],
             [
              0.6666666666666666,
              "#ed7953"
             ],
             [
              0.7777777777777778,
              "#fb9f3a"
             ],
             [
              0.8888888888888888,
              "#fdca26"
             ],
             [
              1,
              "#f0f921"
             ]
            ],
            "type": "heatmap"
           }
          ],
          "heatmapgl": [
           {
            "colorbar": {
             "outlinewidth": 0,
             "ticks": ""
            },
            "colorscale": [
             [
              0,
              "#0d0887"
             ],
             [
              0.1111111111111111,
              "#46039f"
             ],
             [
              0.2222222222222222,
              "#7201a8"
             ],
             [
              0.3333333333333333,
              "#9c179e"
             ],
             [
              0.4444444444444444,
              "#bd3786"
             ],
             [
              0.5555555555555556,
              "#d8576b"
             ],
             [
              0.6666666666666666,
              "#ed7953"
             ],
             [
              0.7777777777777778,
              "#fb9f3a"
             ],
             [
              0.8888888888888888,
              "#fdca26"
             ],
             [
              1,
              "#f0f921"
             ]
            ],
            "type": "heatmapgl"
           }
          ],
          "histogram": [
           {
            "marker": {
             "pattern": {
              "fillmode": "overlay",
              "size": 10,
              "solidity": 0.2
             }
            },
            "type": "histogram"
           }
          ],
          "histogram2d": [
           {
            "colorbar": {
             "outlinewidth": 0,
             "ticks": ""
            },
            "colorscale": [
             [
              0,
              "#0d0887"
             ],
             [
              0.1111111111111111,
              "#46039f"
             ],
             [
              0.2222222222222222,
              "#7201a8"
             ],
             [
              0.3333333333333333,
              "#9c179e"
             ],
             [
              0.4444444444444444,
              "#bd3786"
             ],
             [
              0.5555555555555556,
              "#d8576b"
             ],
             [
              0.6666666666666666,
              "#ed7953"
             ],
             [
              0.7777777777777778,
              "#fb9f3a"
             ],
             [
              0.8888888888888888,
              "#fdca26"
             ],
             [
              1,
              "#f0f921"
             ]
            ],
            "type": "histogram2d"
           }
          ],
          "histogram2dcontour": [
           {
            "colorbar": {
             "outlinewidth": 0,
             "ticks": ""
            },
            "colorscale": [
             [
              0,
              "#0d0887"
             ],
             [
              0.1111111111111111,
              "#46039f"
             ],
             [
              0.2222222222222222,
              "#7201a8"
             ],
             [
              0.3333333333333333,
              "#9c179e"
             ],
             [
              0.4444444444444444,
              "#bd3786"
             ],
             [
              0.5555555555555556,
              "#d8576b"
             ],
             [
              0.6666666666666666,
              "#ed7953"
             ],
             [
              0.7777777777777778,
              "#fb9f3a"
             ],
             [
              0.8888888888888888,
              "#fdca26"
             ],
             [
              1,
              "#f0f921"
             ]
            ],
            "type": "histogram2dcontour"
           }
          ],
          "mesh3d": [
           {
            "colorbar": {
             "outlinewidth": 0,
             "ticks": ""
            },
            "type": "mesh3d"
           }
          ],
          "parcoords": [
           {
            "line": {
             "colorbar": {
              "outlinewidth": 0,
              "ticks": ""
             }
            },
            "type": "parcoords"
           }
          ],
          "pie": [
           {
            "automargin": true,
            "type": "pie"
           }
          ],
          "scatter": [
           {
            "fillpattern": {
             "fillmode": "overlay",
             "size": 10,
             "solidity": 0.2
            },
            "type": "scatter"
           }
          ],
          "scatter3d": [
           {
            "line": {
             "colorbar": {
              "outlinewidth": 0,
              "ticks": ""
             }
            },
            "marker": {
             "colorbar": {
              "outlinewidth": 0,
              "ticks": ""
             }
            },
            "type": "scatter3d"
           }
          ],
          "scattercarpet": [
           {
            "marker": {
             "colorbar": {
              "outlinewidth": 0,
              "ticks": ""
             }
            },
            "type": "scattercarpet"
           }
          ],
          "scattergeo": [
           {
            "marker": {
             "colorbar": {
              "outlinewidth": 0,
              "ticks": ""
             }
            },
            "type": "scattergeo"
           }
          ],
          "scattergl": [
           {
            "marker": {
             "colorbar": {
              "outlinewidth": 0,
              "ticks": ""
             }
            },
            "type": "scattergl"
           }
          ],
          "scattermapbox": [
           {
            "marker": {
             "colorbar": {
              "outlinewidth": 0,
              "ticks": ""
             }
            },
            "type": "scattermapbox"
           }
          ],
          "scatterpolar": [
           {
            "marker": {
             "colorbar": {
              "outlinewidth": 0,
              "ticks": ""
             }
            },
            "type": "scatterpolar"
           }
          ],
          "scatterpolargl": [
           {
            "marker": {
             "colorbar": {
              "outlinewidth": 0,
              "ticks": ""
             }
            },
            "type": "scatterpolargl"
           }
          ],
          "scatterternary": [
           {
            "marker": {
             "colorbar": {
              "outlinewidth": 0,
              "ticks": ""
             }
            },
            "type": "scatterternary"
           }
          ],
          "surface": [
           {
            "colorbar": {
             "outlinewidth": 0,
             "ticks": ""
            },
            "colorscale": [
             [
              0,
              "#0d0887"
             ],
             [
              0.1111111111111111,
              "#46039f"
             ],
             [
              0.2222222222222222,
              "#7201a8"
             ],
             [
              0.3333333333333333,
              "#9c179e"
             ],
             [
              0.4444444444444444,
              "#bd3786"
             ],
             [
              0.5555555555555556,
              "#d8576b"
             ],
             [
              0.6666666666666666,
              "#ed7953"
             ],
             [
              0.7777777777777778,
              "#fb9f3a"
             ],
             [
              0.8888888888888888,
              "#fdca26"
             ],
             [
              1,
              "#f0f921"
             ]
            ],
            "type": "surface"
           }
          ],
          "table": [
           {
            "cells": {
             "fill": {
              "color": "#EBF0F8"
             },
             "line": {
              "color": "white"
             }
            },
            "header": {
             "fill": {
              "color": "#C8D4E3"
             },
             "line": {
              "color": "white"
             }
            },
            "type": "table"
           }
          ]
         },
         "layout": {
          "annotationdefaults": {
           "arrowcolor": "#2a3f5f",
           "arrowhead": 0,
           "arrowwidth": 1
          },
          "autotypenumbers": "strict",
          "coloraxis": {
           "colorbar": {
            "outlinewidth": 0,
            "ticks": ""
           }
          },
          "colorscale": {
           "diverging": [
            [
             0,
             "#8e0152"
            ],
            [
             0.1,
             "#c51b7d"
            ],
            [
             0.2,
             "#de77ae"
            ],
            [
             0.3,
             "#f1b6da"
            ],
            [
             0.4,
             "#fde0ef"
            ],
            [
             0.5,
             "#f7f7f7"
            ],
            [
             0.6,
             "#e6f5d0"
            ],
            [
             0.7,
             "#b8e186"
            ],
            [
             0.8,
             "#7fbc41"
            ],
            [
             0.9,
             "#4d9221"
            ],
            [
             1,
             "#276419"
            ]
           ],
           "sequential": [
            [
             0,
             "#0d0887"
            ],
            [
             0.1111111111111111,
             "#46039f"
            ],
            [
             0.2222222222222222,
             "#7201a8"
            ],
            [
             0.3333333333333333,
             "#9c179e"
            ],
            [
             0.4444444444444444,
             "#bd3786"
            ],
            [
             0.5555555555555556,
             "#d8576b"
            ],
            [
             0.6666666666666666,
             "#ed7953"
            ],
            [
             0.7777777777777778,
             "#fb9f3a"
            ],
            [
             0.8888888888888888,
             "#fdca26"
            ],
            [
             1,
             "#f0f921"
            ]
           ],
           "sequentialminus": [
            [
             0,
             "#0d0887"
            ],
            [
             0.1111111111111111,
             "#46039f"
            ],
            [
             0.2222222222222222,
             "#7201a8"
            ],
            [
             0.3333333333333333,
             "#9c179e"
            ],
            [
             0.4444444444444444,
             "#bd3786"
            ],
            [
             0.5555555555555556,
             "#d8576b"
            ],
            [
             0.6666666666666666,
             "#ed7953"
            ],
            [
             0.7777777777777778,
             "#fb9f3a"
            ],
            [
             0.8888888888888888,
             "#fdca26"
            ],
            [
             1,
             "#f0f921"
            ]
           ]
          },
          "colorway": [
           "#636efa",
           "#EF553B",
           "#00cc96",
           "#ab63fa",
           "#FFA15A",
           "#19d3f3",
           "#FF6692",
           "#B6E880",
           "#FF97FF",
           "#FECB52"
          ],
          "font": {
           "color": "#2a3f5f"
          },
          "geo": {
           "bgcolor": "white",
           "lakecolor": "white",
           "landcolor": "#E5ECF6",
           "showlakes": true,
           "showland": true,
           "subunitcolor": "white"
          },
          "hoverlabel": {
           "align": "left"
          },
          "hovermode": "closest",
          "mapbox": {
           "style": "light"
          },
          "paper_bgcolor": "white",
          "plot_bgcolor": "#E5ECF6",
          "polar": {
           "angularaxis": {
            "gridcolor": "white",
            "linecolor": "white",
            "ticks": ""
           },
           "bgcolor": "#E5ECF6",
           "radialaxis": {
            "gridcolor": "white",
            "linecolor": "white",
            "ticks": ""
           }
          },
          "scene": {
           "xaxis": {
            "backgroundcolor": "#E5ECF6",
            "gridcolor": "white",
            "gridwidth": 2,
            "linecolor": "white",
            "showbackground": true,
            "ticks": "",
            "zerolinecolor": "white"
           },
           "yaxis": {
            "backgroundcolor": "#E5ECF6",
            "gridcolor": "white",
            "gridwidth": 2,
            "linecolor": "white",
            "showbackground": true,
            "ticks": "",
            "zerolinecolor": "white"
           },
           "zaxis": {
            "backgroundcolor": "#E5ECF6",
            "gridcolor": "white",
            "gridwidth": 2,
            "linecolor": "white",
            "showbackground": true,
            "ticks": "",
            "zerolinecolor": "white"
           }
          },
          "shapedefaults": {
           "line": {
            "color": "#2a3f5f"
           }
          },
          "ternary": {
           "aaxis": {
            "gridcolor": "white",
            "linecolor": "white",
            "ticks": ""
           },
           "baxis": {
            "gridcolor": "white",
            "linecolor": "white",
            "ticks": ""
           },
           "bgcolor": "#E5ECF6",
           "caxis": {
            "gridcolor": "white",
            "linecolor": "white",
            "ticks": ""
           }
          },
          "title": {
           "x": 0.05
          },
          "xaxis": {
           "automargin": true,
           "gridcolor": "white",
           "linecolor": "white",
           "ticks": "",
           "title": {
            "standoff": 15
           },
           "zerolinecolor": "white",
           "zerolinewidth": 2
          },
          "yaxis": {
           "automargin": true,
           "gridcolor": "white",
           "linecolor": "white",
           "ticks": "",
           "title": {
            "standoff": 15
           },
           "zerolinecolor": "white",
           "zerolinewidth": 2
          }
         }
        },
        "xaxis": {
         "anchor": "y",
         "autorange": true,
         "domain": [
          0,
          1
         ],
         "range": [
          -277391.491262726,
          5087703.4912627265
         ],
         "title": {
          "text": "x"
         },
         "type": "linear"
        },
        "yaxis": {
         "anchor": "x",
         "autorange": true,
         "domain": [
          0,
          1
         ],
         "range": [
          0,
          2
         ],
         "title": {
          "text": "y"
         },
         "type": "linear"
        }
       }
      },
      "image/png": "[encoded data removed]",
      "text/html": [
       "<div>                            <div id=\"23d2d6f9-c5d6-4734-839b-d21839165072\" class=\"plotly-graph-div\" style=\"height:525px; width:100%;\"></div>            <script type=\"text/javascript\">                require([\"plotly\"], function(Plotly) {                    window.PLOTLYENV=window.PLOTLYENV || {};                                    if (document.getElementById(\"23d2d6f9-c5d6-4734-839b-d21839165072\")) {                    Plotly.newPlot(                        \"23d2d6f9-c5d6-4734-839b-d21839165072\",                        [{\"hovertemplate\":\"x=%{x}\\u003cbr\\u003ey=%{y}\\u003cextra\\u003e\\u003c\\u002fextra\\u003e\",\"legendgroup\":\"\",\"marker\":{\"color\":\"#636efa\",\"symbol\":\"circle\"},\"mode\":\"markers\",\"name\":\"\",\"orientation\":\"v\",\"showlegend\":false,\"x\":[0,4000,8000,80027,84027,88027,160066,164066,168066,240105,244105,248105,320143,324143,328143,400182,404182,408182,480221,484221,488221,560259,564259,568259,640298,644298,648298,720337,724337,728337,800376,804376,808376,880414,884414,888414,960453,964453,968453,1040492,1044492,1048492,1120530,1124530,1128530,1200569,1204569,1208569,1280608,1284608,1288608,1360647,1364647,1368647,1440686,1444686,1448686,1520724,1524724,1528724,1600763,1604763,1608763,1680801,1684801,1688801,1760840,1764840,1768840,1840879,1844879,1848879,1920918,1924918,1928918,2000956,2004956,2008956,2080995,2084995,2088995,2161034,2165034,2169034,2241073,2245073,2249073,2321111,2325111,2329111,2401150,2405150,2409150,2481189,2485189,2489189,2561227,2565227,2569227,2641266,2645266,2649266,2721305,2725305,2729305,2801344,2805344,2809344,2881383,2885383,2889383,2961421,2965421,2969421,3041460,3045460,3049460,3121498,3125498,3129498,3201537,3205537,3209537,3281576,3285576,3289576,3361615,3365615,3369615,3441653,3445653,3449653,3521692,3525692,3529692,3601731,3605731,3609731,3681769,3685769,3689769,3761808,3765808,3769808,3841847,3845847,3849847,3921886,3925886,3929886,4001924,4005924,4009924,4081963,4085963,4089963,4162002,4166002,4170002,4242041,4246041,4250041,4322079,4326079,4330079,4402118,4406118,4410118,4482157,4486157,4490157,4562195,4566195,4570195,4642234,4646234,4650234,4722273,4726273,4730273,4802312,4806312,4810312],\"xaxis\":\"x\",\"y\":[1,1,1,1,1,1,1,1,1,1,1,1,1,1,1,1,1,1,1,1,1,1,1,1,1,1,1,1,1,1,1,1,1,1,1,1,1,1,1,1,1,1,1,1,1,1,1,1,1,1,1,1,1,1,1,1,1,1,1,1,1,1,1,1,1,1,1,1,1,1,1,1,1,1,1,1,1,1,1,1,1,1,1,1,1,1,1,1,1,1,1,1,1,1,1,1,1,1,1,1,1,1,1,1,1,1,1,1,1,1,1,1,1,1,1,1,1,1,1,1,1,1,1,1,1,1,1,1,1,1,1,1,1,1,1,1,1,1,1,1,1,1,1,1,1,1,1,1,1,1,1,1,1,1,1,1,1,1,1,1,1,1,1,1,1,1,1,1,1,1,1,1,1,1,1,1,1,1,1,1,1,1,1],\"yaxis\":\"y\",\"type\":\"scatter\"}],                        {\"template\":{\"data\":{\"histogram2dcontour\":[{\"type\":\"histogram2dcontour\",\"colorbar\":{\"outlinewidth\":0,\"ticks\":\"\"},\"colorscale\":[[0.0,\"#0d0887\"],[0.1111111111111111,\"#46039f\"],[0.2222222222222222,\"#7201a8\"],[0.3333333333333333,\"#9c179e\"],[0.4444444444444444,\"#bd3786\"],[0.5555555555555556,\"#d8576b\"],[0.6666666666666666,\"#ed7953\"],[0.7777777777777778,\"#fb9f3a\"],[0.8888888888888888,\"#fdca26\"],[1.0,\"#f0f921\"]]}],\"choropleth\":[{\"type\":\"choropleth\",\"colorbar\":{\"outlinewidth\":0,\"ticks\":\"\"}}],\"histogram2d\":[{\"type\":\"histogram2d\",\"colorbar\":{\"outlinewidth\":0,\"ticks\":\"\"},\"colorscale\":[[0.0,\"#0d0887\"],[0.1111111111111111,\"#46039f\"],[0.2222222222222222,\"#7201a8\"],[0.3333333333333333,\"#9c179e\"],[0.4444444444444444,\"#bd3786\"],[0.5555555555555556,\"#d8576b\"],[0.6666666666666666,\"#ed7953\"],[0.7777777777777778,\"#fb9f3a\"],[0.8888888888888888,\"#fdca26\"],[1.0,\"#f0f921\"]]}],\"heatmap\":[{\"type\":\"heatmap\",\"colorbar\":{\"outlinewidth\":0,\"ticks\":\"\"},\"colorscale\":[[0.0,\"#0d0887\"],[0.1111111111111111,\"#46039f\"],[0.2222222222222222,\"#7201a8\"],[0.3333333333333333,\"#9c179e\"],[0.4444444444444444,\"#bd3786\"],[0.5555555555555556,\"#d8576b\"],[0.6666666666666666,\"#ed7953\"],[0.7777777777777778,\"#fb9f3a\"],[0.8888888888888888,\"#fdca26\"],[1.0,\"#f0f921\"]]}],\"heatmapgl\":[{\"type\":\"heatmapgl\",\"colorbar\":{\"outlinewidth\":0,\"ticks\":\"\"},\"colorscale\":[[0.0,\"#0d0887\"],[0.1111111111111111,\"#46039f\"],[0.2222222222222222,\"#7201a8\"],[0.3333333333333333,\"#9c179e\"],[0.4444444444444444,\"#bd3786\"],[0.5555555555555556,\"#d8576b\"],[0.6666666666666666,\"#ed7953\"],[0.7777777777777778,\"#fb9f3a\"],[0.8888888888888888,\"#fdca26\"],[1.0,\"#f0f921\"]]}],\"contourcarpet\":[{\"type\":\"contourcarpet\",\"colorbar\":{\"outlinewidth\":0,\"ticks\":\"\"}}],\"contour\":[{\"type\":\"contour\",\"colorbar\":{\"outlinewidth\":0,\"ticks\":\"\"},\"colorscale\":[[0.0,\"#0d0887\"],[0.1111111111111111,\"#46039f\"],[0.2222222222222222,\"#7201a8\"],[0.3333333333333333,\"#9c179e\"],[0.4444444444444444,\"#bd3786\"],[0.5555555555555556,\"#d8576b\"],[0.6666666666666666,\"#ed7953\"],[0.7777777777777778,\"#fb9f3a\"],[0.8888888888888888,\"#fdca26\"],[1.0,\"#f0f921\"]]}],\"surface\":[{\"type\":\"surface\",\"colorbar\":{\"outlinewidth\":0,\"ticks\":\"\"},\"colorscale\":[[0.0,\"#0d0887\"],[0.1111111111111111,\"#46039f\"],[0.2222222222222222,\"#7201a8\"],[0.3333333333333333,\"#9c179e\"],[0.4444444444444444,\"#bd3786\"],[0.5555555555555556,\"#d8576b\"],[0.6666666666666666,\"#ed7953\"],[0.7777777777777778,\"#fb9f3a\"],[0.8888888888888888,\"#fdca26\"],[1.0,\"#f0f921\"]]}],\"mesh3d\":[{\"type\":\"mesh3d\",\"colorbar\":{\"outlinewidth\":0,\"ticks\":\"\"}}],\"scatter\":[{\"fillpattern\":{\"fillmode\":\"overlay\",\"size\":10,\"solidity\":0.2},\"type\":\"scatter\"}],\"parcoords\":[{\"type\":\"parcoords\",\"line\":{\"colorbar\":{\"outlinewidth\":0,\"ticks\":\"\"}}}],\"scatterpolargl\":[{\"type\":\"scatterpolargl\",\"marker\":{\"colorbar\":{\"outlinewidth\":0,\"ticks\":\"\"}}}],\"bar\":[{\"error_x\":{\"color\":\"#2a3f5f\"},\"error_y\":{\"color\":\"#2a3f5f\"},\"marker\":{\"line\":{\"color\":\"#E5ECF6\",\"width\":0.5},\"pattern\":{\"fillmode\":\"overlay\",\"size\":10,\"solidity\":0.2}},\"type\":\"bar\"}],\"scattergeo\":[{\"type\":\"scattergeo\",\"marker\":{\"colorbar\":{\"outlinewidth\":0,\"ticks\":\"\"}}}],\"scatterpolar\":[{\"type\":\"scatterpolar\",\"marker\":{\"colorbar\":{\"outlinewidth\":0,\"ticks\":\"\"}}}],\"histogram\":[{\"marker\":{\"pattern\":{\"fillmode\":\"overlay\",\"size\":10,\"solidity\":0.2}},\"type\":\"histogram\"}],\"scattergl\":[{\"type\":\"scattergl\",\"marker\":{\"colorbar\":{\"outlinewidth\":0,\"ticks\":\"\"}}}],\"scatter3d\":[{\"type\":\"scatter3d\",\"line\":{\"colorbar\":{\"outlinewidth\":0,\"ticks\":\"\"}},\"marker\":{\"colorbar\":{\"outlinewidth\":0,\"ticks\":\"\"}}}],\"scattermapbox\":[{\"type\":\"scattermapbox\",\"marker\":{\"colorbar\":{\"outlinewidth\":0,\"ticks\":\"\"}}}],\"scatterternary\":[{\"type\":\"scatterternary\",\"marker\":{\"colorbar\":{\"outlinewidth\":0,\"ticks\":\"\"}}}],\"scattercarpet\":[{\"type\":\"scattercarpet\",\"marker\":{\"colorbar\":{\"outlinewidth\":0,\"ticks\":\"\"}}}],\"carpet\":[{\"aaxis\":{\"endlinecolor\":\"#2a3f5f\",\"gridcolor\":\"white\",\"linecolor\":\"white\",\"minorgridcolor\":\"white\",\"startlinecolor\":\"#2a3f5f\"},\"baxis\":{\"endlinecolor\":\"#2a3f5f\",\"gridcolor\":\"white\",\"linecolor\":\"white\",\"minorgridcolor\":\"white\",\"startlinecolor\":\"#2a3f5f\"},\"type\":\"carpet\"}],\"table\":[{\"cells\":{\"fill\":{\"color\":\"#EBF0F8\"},\"line\":{\"color\":\"white\"}},\"header\":{\"fill\":{\"color\":\"#C8D4E3\"},\"line\":{\"color\":\"white\"}},\"type\":\"table\"}],\"barpolar\":[{\"marker\":{\"line\":{\"color\":\"#E5ECF6\",\"width\":0.5},\"pattern\":{\"fillmode\":\"overlay\",\"size\":10,\"solidity\":0.2}},\"type\":\"barpolar\"}],\"pie\":[{\"automargin\":true,\"type\":\"pie\"}]},\"layout\":{\"autotypenumbers\":\"strict\",\"colorway\":[\"#636efa\",\"#EF553B\",\"#00cc96\",\"#ab63fa\",\"#FFA15A\",\"#19d3f3\",\"#FF6692\",\"#B6E880\",\"#FF97FF\",\"#FECB52\"],\"font\":{\"color\":\"#2a3f5f\"},\"hovermode\":\"closest\",\"hoverlabel\":{\"align\":\"left\"},\"paper_bgcolor\":\"white\",\"plot_bgcolor\":\"#E5ECF6\",\"polar\":{\"bgcolor\":\"#E5ECF6\",\"angularaxis\":{\"gridcolor\":\"white\",\"linecolor\":\"white\",\"ticks\":\"\"},\"radialaxis\":{\"gridcolor\":\"white\",\"linecolor\":\"white\",\"ticks\":\"\"}},\"ternary\":{\"bgcolor\":\"#E5ECF6\",\"aaxis\":{\"gridcolor\":\"white\",\"linecolor\":\"white\",\"ticks\":\"\"},\"baxis\":{\"gridcolor\":\"white\",\"linecolor\":\"white\",\"ticks\":\"\"},\"caxis\":{\"gridcolor\":\"white\",\"linecolor\":\"white\",\"ticks\":\"\"}},\"coloraxis\":{\"colorbar\":{\"outlinewidth\":0,\"ticks\":\"\"}},\"colorscale\":{\"sequential\":[[0.0,\"#0d0887\"],[0.1111111111111111,\"#46039f\"],[0.2222222222222222,\"#7201a8\"],[0.3333333333333333,\"#9c179e\"],[0.4444444444444444,\"#bd3786\"],[0.5555555555555556,\"#d8576b\"],[0.6666666666666666,\"#ed7953\"],[0.7777777777777778,\"#fb9f3a\"],[0.8888888888888888,\"#fdca26\"],[1.0,\"#f0f921\"]],\"sequentialminus\":[[0.0,\"#0d0887\"],[0.1111111111111111,\"#46039f\"],[0.2222222222222222,\"#7201a8\"],[0.3333333333333333,\"#9c179e\"],[0.4444444444444444,\"#bd3786\"],[0.5555555555555556,\"#d8576b\"],[0.6666666666666666,\"#ed7953\"],[0.7777777777777778,\"#fb9f3a\"],[0.8888888888888888,\"#fdca26\"],[1.0,\"#f0f921\"]],\"diverging\":[[0,\"#8e0152\"],[0.1,\"#c51b7d\"],[0.2,\"#de77ae\"],[0.3,\"#f1b6da\"],[0.4,\"#fde0ef\"],[0.5,\"#f7f7f7\"],[0.6,\"#e6f5d0\"],[0.7,\"#b8e186\"],[0.8,\"#7fbc41\"],[0.9,\"#4d9221\"],[1,\"#276419\"]]},\"xaxis\":{\"gridcolor\":\"white\",\"linecolor\":\"white\",\"ticks\":\"\",\"title\":{\"standoff\":15},\"zerolinecolor\":\"white\",\"automargin\":true,\"zerolinewidth\":2},\"yaxis\":{\"gridcolor\":\"white\",\"linecolor\":\"white\",\"ticks\":\"\",\"title\":{\"standoff\":15},\"zerolinecolor\":\"white\",\"automargin\":true,\"zerolinewidth\":2},\"scene\":{\"xaxis\":{\"backgroundcolor\":\"#E5ECF6\",\"gridcolor\":\"white\",\"linecolor\":\"white\",\"showbackground\":true,\"ticks\":\"\",\"zerolinecolor\":\"white\",\"gridwidth\":2},\"yaxis\":{\"backgroundcolor\":\"#E5ECF6\",\"gridcolor\":\"white\",\"linecolor\":\"white\",\"showbackground\":true,\"ticks\":\"\",\"zerolinecolor\":\"white\",\"gridwidth\":2},\"zaxis\":{\"backgroundcolor\":\"#E5ECF6\",\"gridcolor\":\"white\",\"linecolor\":\"white\",\"showbackground\":true,\"ticks\":\"\",\"zerolinecolor\":\"white\",\"gridwidth\":2}},\"shapedefaults\":{\"line\":{\"color\":\"#2a3f5f\"}},\"annotationdefaults\":{\"arrowcolor\":\"#2a3f5f\",\"arrowhead\":0,\"arrowwidth\":1},\"geo\":{\"bgcolor\":\"white\",\"landcolor\":\"#E5ECF6\",\"subunitcolor\":\"white\",\"showland\":true,\"showlakes\":true,\"lakecolor\":\"white\"},\"title\":{\"x\":0.05},\"mapbox\":{\"style\":\"light\"}}},\"xaxis\":{\"anchor\":\"y\",\"domain\":[0.0,1.0],\"title\":{\"text\":\"x\"}},\"yaxis\":{\"anchor\":\"x\",\"domain\":[0.0,1.0],\"title\":{\"text\":\"y\"}},\"legend\":{\"tracegroupgap\":0},\"margin\":{\"t\":60}},                        {\"responsive\": true}                    ).then(function(){\n",
       "                            \n",
       "var gd = document.getElementById('23d2d6f9-c5d6-4734-839b-d21839165072');\n",
       "var x = new MutationObserver(function (mutations, observer) {{\n",
       "        var display = window.getComputedStyle(gd).display;\n",
       "        if (!display || display === 'none') {{\n",
       "            console.log([gd, 'removed!']);\n",
       "            Plotly.purge(gd);\n",
       "            observer.disconnect();\n",
       "        }}\n",
       "}});\n",
       "\n",
       "// Listen for the removal of the full notebook cells\n",
       "var notebookContainer = gd.closest('#notebook-container');\n",
       "if (notebookContainer) {{\n",
       "    x.observe(notebookContainer, {childList: true});\n",
       "}}\n",
       "\n",
       "// Listen for the clearing of the current output cell\n",
       "var outputEl = gd.closest('.output');\n",
       "if (outputEl) {{\n",
       "    x.observe(outputEl, {childList: true});\n",
       "}}\n",
       "\n",
       "                        })                };                });            </script>        </div>"
      ]
     },
     "metadata": {},
     "output_type": "display_data"
    }
   ],
   "source": [
    "px.scatter(x=new_trigger[0], y=np.ones_like(new_trigger[0]))"
   ]
  },
  {
   "cell_type": "markdown",
   "id": "0c4fe922-73bf-4d9b-880a-02425bba7b09",
   "metadata": {},
   "source": [
    "Now we can add those trigger:"
   ]
  },
  {
   "cell_type": "code",
   "execution_count": 39,
   "id": "935f83e3-6626-41ca-b90d-6a3cf8dd2092",
   "metadata": {},
   "outputs": [
    {
     "data": {
      "text/html": [
       "<div>\n",
       "<style scoped>\n",
       "    .dataframe tbody tr th:only-of-type {\n",
       "        vertical-align: middle;\n",
       "    }\n",
       "\n",
       "    .dataframe tbody tr th {\n",
       "        vertical-align: top;\n",
       "    }\n",
       "\n",
       "    .dataframe thead th {\n",
       "        text-align: right;\n",
       "    }\n",
       "</style>\n",
       "<table border=\"1\" class=\"dataframe\">\n",
       "  <thead>\n",
       "    <tr style=\"text-align: right;\">\n",
       "      <th></th>\n",
       "      <th>index</th>\n",
       "      <th>stimulus_name</th>\n",
       "      <th>begin_fr</th>\n",
       "      <th>end_fr</th>\n",
       "      <th>trigger_fr_relative</th>\n",
       "      <th>trigger_int</th>\n",
       "      <th>stimulus_index</th>\n",
       "      <th>stimulus_repeat_logic</th>\n",
       "      <th>stimulus_repeat_sublogic</th>\n",
       "      <th>sampling_freq</th>\n",
       "      <th>recording</th>\n",
       "      <th>trigger_ends</th>\n",
       "      <th>nr_repeats</th>\n",
       "    </tr>\n",
       "  </thead>\n",
       "  <tbody>\n",
       "    <tr>\n",
       "      <th>0</th>\n",
       "      <td>0</td>\n",
       "      <td>FFF</td>\n",
       "      <td>191864</td>\n",
       "      <td>4994176</td>\n",
       "      <td>[0, 4000, 8000, 80027, 84027, 88027, 160066, 1...</td>\n",
       "      <td>[4000, 4000, 72027, 4000, 4000, 72039, 4000, 4...</td>\n",
       "      <td>0</td>\n",
       "      <td>18</td>\n",
       "      <td>1</td>\n",
       "      <td>20000.0</td>\n",
       "      <td>zebrafish_14_11_23</td>\n",
       "      <td>[4000, 8000, 12000, 84027, 88027, 92027, 16406...</td>\n",
       "      <td>10</td>\n",
       "    </tr>\n",
       "    <tr>\n",
       "      <th>1</th>\n",
       "      <td>5</td>\n",
       "      <td>FFF</td>\n",
       "      <td>137207884</td>\n",
       "      <td>142010213</td>\n",
       "      <td>[0, 4000, 8000, 80042, 84042, 88042, 160080, 1...</td>\n",
       "      <td>[4000, 4000, 72042, 4000, 4000, 72038, 4000, 4...</td>\n",
       "      <td>5</td>\n",
       "      <td>18</td>\n",
       "      <td>1</td>\n",
       "      <td>20000.0</td>\n",
       "      <td>zebrafish_14_11_23</td>\n",
       "      <td>[4000, 8000, 12000, 84042, 88042, 92042, 16408...</td>\n",
       "      <td>10</td>\n",
       "    </tr>\n",
       "    <tr>\n",
       "      <th>2</th>\n",
       "      <td>17</td>\n",
       "      <td>FFF</td>\n",
       "      <td>304545052</td>\n",
       "      <td>309267327</td>\n",
       "      <td>[0, 4000, 8000, 80029, 84029, 88029, 160068, 1...</td>\n",
       "      <td>[4000, 4000, 72029, 4000, 4000, 72039, 4000, 4...</td>\n",
       "      <td>17</td>\n",
       "      <td>18</td>\n",
       "      <td>1</td>\n",
       "      <td>20000.0</td>\n",
       "      <td>zebrafish_14_11_23</td>\n",
       "      <td>[4000, 8000, 80029, 84029, 88029, 160067, 1640...</td>\n",
       "      <td>9</td>\n",
       "    </tr>\n",
       "    <tr>\n",
       "      <th>3</th>\n",
       "      <td>19</td>\n",
       "      <td>FFF</td>\n",
       "      <td>413275796</td>\n",
       "      <td>418078126</td>\n",
       "      <td>[0, 4000, 8000, 80042, 84042, 88042, 160081, 1...</td>\n",
       "      <td>[4000, 4000, 72042, 4000, 4000, 72039, 4000, 4...</td>\n",
       "      <td>19</td>\n",
       "      <td>18</td>\n",
       "      <td>1</td>\n",
       "      <td>20000.0</td>\n",
       "      <td>zebrafish_14_11_23</td>\n",
       "      <td>[4000, 8000, 12000, 84042, 88042, 92042, 16408...</td>\n",
       "      <td>10</td>\n",
       "    </tr>\n",
       "    <tr>\n",
       "      <th>4</th>\n",
       "      <td>22</td>\n",
       "      <td>FFF</td>\n",
       "      <td>425205567</td>\n",
       "      <td>430007892</td>\n",
       "      <td>[0, 4000, 8000, 80040, 84040, 88040, 160079, 1...</td>\n",
       "      <td>[4000, 4000, 72040, 4000, 4000, 72039, 4000, 4...</td>\n",
       "      <td>22</td>\n",
       "      <td>18</td>\n",
       "      <td>1</td>\n",
       "      <td>20000.0</td>\n",
       "      <td>zebrafish_14_11_23</td>\n",
       "      <td>[4000, 8000, 12000, 84040, 88040, 92040, 16407...</td>\n",
       "      <td>10</td>\n",
       "    </tr>\n",
       "    <tr>\n",
       "      <th>5</th>\n",
       "      <td>25</td>\n",
       "      <td>FFF</td>\n",
       "      <td>442532474</td>\n",
       "      <td>447334795</td>\n",
       "      <td>[0, 4000, 8000, 80035, 84035, 88035, 160074, 1...</td>\n",
       "      <td>[4000, 4000, 72035, 4000, 4000, 72039, 4000, 4...</td>\n",
       "      <td>25</td>\n",
       "      <td>18</td>\n",
       "      <td>1</td>\n",
       "      <td>20000.0</td>\n",
       "      <td>zebrafish_14_11_23</td>\n",
       "      <td>[4000, 8000, 12000, 84035, 88035, 92035, 16407...</td>\n",
       "      <td>10</td>\n",
       "    </tr>\n",
       "  </tbody>\n",
       "</table>\n",
       "</div>"
      ],
      "text/plain": [
       "   index stimulus_name   begin_fr     end_fr  \\\n",
       "0      0           FFF     191864    4994176   \n",
       "1      5           FFF  137207884  142010213   \n",
       "2     17           FFF  304545052  309267327   \n",
       "3     19           FFF  413275796  418078126   \n",
       "4     22           FFF  425205567  430007892   \n",
       "5     25           FFF  442532474  447334795   \n",
       "\n",
       "                                 trigger_fr_relative  \\\n",
       "0  [0, 4000, 8000, 80027, 84027, 88027, 160066, 1...   \n",
       "1  [0, 4000, 8000, 80042, 84042, 88042, 160080, 1...   \n",
       "2  [0, 4000, 8000, 80029, 84029, 88029, 160068, 1...   \n",
       "3  [0, 4000, 8000, 80042, 84042, 88042, 160081, 1...   \n",
       "4  [0, 4000, 8000, 80040, 84040, 88040, 160079, 1...   \n",
       "5  [0, 4000, 8000, 80035, 84035, 88035, 160074, 1...   \n",
       "\n",
       "                                         trigger_int  stimulus_index  \\\n",
       "0  [4000, 4000, 72027, 4000, 4000, 72039, 4000, 4...               0   \n",
       "1  [4000, 4000, 72042, 4000, 4000, 72038, 4000, 4...               5   \n",
       "2  [4000, 4000, 72029, 4000, 4000, 72039, 4000, 4...              17   \n",
       "3  [4000, 4000, 72042, 4000, 4000, 72039, 4000, 4...              19   \n",
       "4  [4000, 4000, 72040, 4000, 4000, 72039, 4000, 4...              22   \n",
       "5  [4000, 4000, 72035, 4000, 4000, 72039, 4000, 4...              25   \n",
       "\n",
       "   stimulus_repeat_logic  stimulus_repeat_sublogic  sampling_freq  \\\n",
       "0                     18                         1        20000.0   \n",
       "1                     18                         1        20000.0   \n",
       "2                     18                         1        20000.0   \n",
       "3                     18                         1        20000.0   \n",
       "4                     18                         1        20000.0   \n",
       "5                     18                         1        20000.0   \n",
       "\n",
       "            recording                                       trigger_ends  \\\n",
       "0  zebrafish_14_11_23  [4000, 8000, 12000, 84027, 88027, 92027, 16406...   \n",
       "1  zebrafish_14_11_23  [4000, 8000, 12000, 84042, 88042, 92042, 16408...   \n",
       "2  zebrafish_14_11_23  [4000, 8000, 80029, 84029, 88029, 160067, 1640...   \n",
       "3  zebrafish_14_11_23  [4000, 8000, 12000, 84042, 88042, 92042, 16408...   \n",
       "4  zebrafish_14_11_23  [4000, 8000, 12000, 84040, 88040, 92040, 16407...   \n",
       "5  zebrafish_14_11_23  [4000, 8000, 12000, 84035, 88035, 92035, 16407...   \n",
       "\n",
       "   nr_repeats  \n",
       "0          10  \n",
       "1          10  \n",
       "2           9  \n",
       "3          10  \n",
       "4          10  \n",
       "5          10  "
      ]
     },
     "execution_count": 39,
     "metadata": {},
     "output_type": "execute_result"
    }
   ],
   "source": [
    "recording.dataframes[\"fff_sus_tran\"] = stimulus_dfs.add_triggers(recording.dataframes[\"fff_sus_tran\"] , [\"all\"], new_trigger, 6*3, 1)\n",
    "recording.dataframes[\"fff_sus_tran\"]"
   ]
  },
  {
   "cell_type": "code",
   "execution_count": 3,
   "id": "3be157f4-b33f-4a5f-b3da-775bcc56c19a",
   "metadata": {},
   "outputs": [],
   "source": [
    "spikes_df = recording.get_spikes_df(stimulus_df = \"fff_sus_tran\")"
   ]
  },
  {
   "cell_type": "code",
   "execution_count": 41,
   "id": "9d0ee46e-0c5c-45d3-8438-d6b1b26e01ed",
   "metadata": {},
   "outputs": [
    {
     "data": {
      "text/html": [
       "<div>\n",
       "<style scoped>\n",
       "    .dataframe tbody tr th:only-of-type {\n",
       "        vertical-align: middle;\n",
       "    }\n",
       "\n",
       "    .dataframe tbody tr th {\n",
       "        vertical-align: top;\n",
       "    }\n",
       "\n",
       "    .dataframe thead th {\n",
       "        text-align: right;\n",
       "    }\n",
       "</style>\n",
       "<table border=\"1\" class=\"dataframe\">\n",
       "  <thead>\n",
       "    <tr style=\"text-align: right;\">\n",
       "      <th></th>\n",
       "      <th>cell_index</th>\n",
       "      <th>times</th>\n",
       "      <th>times_relative</th>\n",
       "      <th>trigger</th>\n",
       "      <th>repeat</th>\n",
       "      <th>times_triggered</th>\n",
       "      <th>stimulus_index</th>\n",
       "    </tr>\n",
       "  </thead>\n",
       "  <tbody>\n",
       "    <tr>\n",
       "      <th>0</th>\n",
       "      <td>0</td>\n",
       "      <td>15227.25430</td>\n",
       "      <td>0.00170</td>\n",
       "      <td>0</td>\n",
       "      <td>0</td>\n",
       "      <td>0.00170</td>\n",
       "      <td>17</td>\n",
       "    </tr>\n",
       "    <tr>\n",
       "      <th>1</th>\n",
       "      <td>0</td>\n",
       "      <td>15227.29270</td>\n",
       "      <td>0.04010</td>\n",
       "      <td>0</td>\n",
       "      <td>0</td>\n",
       "      <td>0.04010</td>\n",
       "      <td>17</td>\n",
       "    </tr>\n",
       "    <tr>\n",
       "      <th>2</th>\n",
       "      <td>0</td>\n",
       "      <td>15227.30845</td>\n",
       "      <td>0.05585</td>\n",
       "      <td>0</td>\n",
       "      <td>0</td>\n",
       "      <td>0.05585</td>\n",
       "      <td>17</td>\n",
       "    </tr>\n",
       "    <tr>\n",
       "      <th>3</th>\n",
       "      <td>0</td>\n",
       "      <td>15227.31025</td>\n",
       "      <td>0.05765</td>\n",
       "      <td>0</td>\n",
       "      <td>0</td>\n",
       "      <td>0.05765</td>\n",
       "      <td>17</td>\n",
       "    </tr>\n",
       "    <tr>\n",
       "      <th>4</th>\n",
       "      <td>0</td>\n",
       "      <td>15227.31095</td>\n",
       "      <td>0.05835</td>\n",
       "      <td>0</td>\n",
       "      <td>0</td>\n",
       "      <td>0.05835</td>\n",
       "      <td>17</td>\n",
       "    </tr>\n",
       "    <tr>\n",
       "      <th>...</th>\n",
       "      <td>...</td>\n",
       "      <td>...</td>\n",
       "      <td>...</td>\n",
       "      <td>...</td>\n",
       "      <td>...</td>\n",
       "      <td>...</td>\n",
       "      <td>...</td>\n",
       "    </tr>\n",
       "    <tr>\n",
       "      <th>6061723</th>\n",
       "      <td>307</td>\n",
       "      <td>22366.42405</td>\n",
       "      <td>239.80035</td>\n",
       "      <td>17</td>\n",
       "      <td>9</td>\n",
       "      <td>23.69600</td>\n",
       "      <td>25</td>\n",
       "    </tr>\n",
       "    <tr>\n",
       "      <th>6061724</th>\n",
       "      <td>307</td>\n",
       "      <td>22366.48010</td>\n",
       "      <td>239.85640</td>\n",
       "      <td>17</td>\n",
       "      <td>9</td>\n",
       "      <td>23.75205</td>\n",
       "      <td>25</td>\n",
       "    </tr>\n",
       "    <tr>\n",
       "      <th>6061725</th>\n",
       "      <td>307</td>\n",
       "      <td>22366.55590</td>\n",
       "      <td>239.93220</td>\n",
       "      <td>17</td>\n",
       "      <td>9</td>\n",
       "      <td>23.82785</td>\n",
       "      <td>25</td>\n",
       "    </tr>\n",
       "    <tr>\n",
       "      <th>6061726</th>\n",
       "      <td>307</td>\n",
       "      <td>22366.63890</td>\n",
       "      <td>240.01520</td>\n",
       "      <td>17</td>\n",
       "      <td>9</td>\n",
       "      <td>23.91085</td>\n",
       "      <td>25</td>\n",
       "    </tr>\n",
       "    <tr>\n",
       "      <th>6061727</th>\n",
       "      <td>307</td>\n",
       "      <td>22366.73190</td>\n",
       "      <td>240.10820</td>\n",
       "      <td>17</td>\n",
       "      <td>9</td>\n",
       "      <td>24.00385</td>\n",
       "      <td>25</td>\n",
       "    </tr>\n",
       "  </tbody>\n",
       "</table>\n",
       "<p>6061728 rows × 7 columns</p>\n",
       "</div>"
      ],
      "text/plain": [
       "         cell_index        times  times_relative  trigger  repeat  \\\n",
       "0                 0  15227.25430         0.00170        0       0   \n",
       "1                 0  15227.29270         0.04010        0       0   \n",
       "2                 0  15227.30845         0.05585        0       0   \n",
       "3                 0  15227.31025         0.05765        0       0   \n",
       "4                 0  15227.31095         0.05835        0       0   \n",
       "...             ...          ...             ...      ...     ...   \n",
       "6061723         307  22366.42405       239.80035       17       9   \n",
       "6061724         307  22366.48010       239.85640       17       9   \n",
       "6061725         307  22366.55590       239.93220       17       9   \n",
       "6061726         307  22366.63890       240.01520       17       9   \n",
       "6061727         307  22366.73190       240.10820       17       9   \n",
       "\n",
       "         times_triggered  stimulus_index  \n",
       "0                0.00170              17  \n",
       "1                0.04010              17  \n",
       "2                0.05585              17  \n",
       "3                0.05765              17  \n",
       "4                0.05835              17  \n",
       "...                  ...             ...  \n",
       "6061723         23.69600              25  \n",
       "6061724         23.75205              25  \n",
       "6061725         23.82785              25  \n",
       "6061726         23.91085              25  \n",
       "6061727         24.00385              25  \n",
       "\n",
       "[6061728 rows x 7 columns]"
      ]
     },
     "execution_count": 41,
     "metadata": {},
     "output_type": "execute_result"
    }
   ],
   "source": [
    "spikes_df"
   ]
  },
  {
   "cell_type": "markdown",
   "id": "0c1414fa-361f-47e3-a997-56bae846f8ac",
   "metadata": {},
   "source": [
    "If we want to only have the spikes that fall inside the first 0.2 seconds of the first trigger in each repeat we can simply do:"
   ]
  },
  {
   "cell_type": "code",
   "execution_count": 44,
   "id": "e629778b-95ba-4728-83a1-72f4259e955e",
   "metadata": {},
   "outputs": [],
   "source": [
    "import spiketrains"
   ]
  },
  {
   "cell_type": "code",
   "execution_count": 52,
   "id": "53e94180-a8e1-420a-b12a-0a6a323e3922",
   "metadata": {},
   "outputs": [
    {
     "data": {
      "text/html": [
       "<div>\n",
       "<style scoped>\n",
       "    .dataframe tbody tr th:only-of-type {\n",
       "        vertical-align: middle;\n",
       "    }\n",
       "\n",
       "    .dataframe tbody tr th {\n",
       "        vertical-align: top;\n",
       "    }\n",
       "\n",
       "    .dataframe thead th {\n",
       "        text-align: right;\n",
       "    }\n",
       "</style>\n",
       "<table border=\"1\" class=\"dataframe\">\n",
       "  <thead>\n",
       "    <tr style=\"text-align: right;\">\n",
       "      <th></th>\n",
       "      <th>trigger</th>\n",
       "      <th>spikes_sum</th>\n",
       "    </tr>\n",
       "  </thead>\n",
       "  <tbody>\n",
       "    <tr>\n",
       "      <th>0</th>\n",
       "      <td>0</td>\n",
       "      <td>68033</td>\n",
       "    </tr>\n",
       "    <tr>\n",
       "      <th>1</th>\n",
       "      <td>1</td>\n",
       "      <td>55322</td>\n",
       "    </tr>\n",
       "    <tr>\n",
       "      <th>2</th>\n",
       "      <td>2</td>\n",
       "      <td>891260</td>\n",
       "    </tr>\n",
       "    <tr>\n",
       "      <th>3</th>\n",
       "      <td>3</td>\n",
       "      <td>74696</td>\n",
       "    </tr>\n",
       "    <tr>\n",
       "      <th>4</th>\n",
       "      <td>4</td>\n",
       "      <td>53967</td>\n",
       "    </tr>\n",
       "    <tr>\n",
       "      <th>5</th>\n",
       "      <td>5</td>\n",
       "      <td>895443</td>\n",
       "    </tr>\n",
       "    <tr>\n",
       "      <th>6</th>\n",
       "      <td>6</td>\n",
       "      <td>74037</td>\n",
       "    </tr>\n",
       "    <tr>\n",
       "      <th>7</th>\n",
       "      <td>7</td>\n",
       "      <td>52296</td>\n",
       "    </tr>\n",
       "    <tr>\n",
       "      <th>8</th>\n",
       "      <td>8</td>\n",
       "      <td>905782</td>\n",
       "    </tr>\n",
       "    <tr>\n",
       "      <th>9</th>\n",
       "      <td>9</td>\n",
       "      <td>69242</td>\n",
       "    </tr>\n",
       "    <tr>\n",
       "      <th>10</th>\n",
       "      <td>10</td>\n",
       "      <td>52062</td>\n",
       "    </tr>\n",
       "    <tr>\n",
       "      <th>11</th>\n",
       "      <td>11</td>\n",
       "      <td>909296</td>\n",
       "    </tr>\n",
       "    <tr>\n",
       "      <th>12</th>\n",
       "      <td>12</td>\n",
       "      <td>65208</td>\n",
       "    </tr>\n",
       "    <tr>\n",
       "      <th>13</th>\n",
       "      <td>13</td>\n",
       "      <td>55189</td>\n",
       "    </tr>\n",
       "    <tr>\n",
       "      <th>14</th>\n",
       "      <td>14</td>\n",
       "      <td>907060</td>\n",
       "    </tr>\n",
       "    <tr>\n",
       "      <th>15</th>\n",
       "      <td>15</td>\n",
       "      <td>46938</td>\n",
       "    </tr>\n",
       "    <tr>\n",
       "      <th>16</th>\n",
       "      <td>16</td>\n",
       "      <td>46374</td>\n",
       "    </tr>\n",
       "    <tr>\n",
       "      <th>17</th>\n",
       "      <td>17</td>\n",
       "      <td>839523</td>\n",
       "    </tr>\n",
       "  </tbody>\n",
       "</table>\n",
       "</div>"
      ],
      "text/plain": [
       "    trigger  spikes_sum\n",
       "0         0       68033\n",
       "1         1       55322\n",
       "2         2      891260\n",
       "3         3       74696\n",
       "4         4       53967\n",
       "5         5      895443\n",
       "6         6       74037\n",
       "7         7       52296\n",
       "8         8      905782\n",
       "9         9       69242\n",
       "10       10       52062\n",
       "11       11      909296\n",
       "12       12       65208\n",
       "13       13       55189\n",
       "14       14      907060\n",
       "15       15       46938\n",
       "16       16       46374\n",
       "17       17      839523"
      ]
     },
     "execution_count": 52,
     "metadata": {},
     "output_type": "execute_result"
    }
   ],
   "source": [
    "df = spiketrains.count_spikes(spikes_df, columns=\"trigger\")\n",
    "df"
   ]
  },
  {
   "cell_type": "code",
   "execution_count": 48,
   "id": "fa0720c5-41d4-407a-8401-a6f048e00fe4",
   "metadata": {},
   "outputs": [
    {
     "data": {
      "text/plain": [
       "trigger           0\n",
       "spikes_sum    68033\n",
       "Name: 0, dtype: int64"
      ]
     },
     "execution_count": 48,
     "metadata": {},
     "output_type": "execute_result"
    }
   ],
   "source": [
    "df.loc[0]"
   ]
  },
  {
   "cell_type": "code",
   "execution_count": 49,
   "id": "acad335f-a317-489d-bb10-47a95c67d8e4",
   "metadata": {},
   "outputs": [
    {
     "data": {
      "text/plain": [
       "trigger           1\n",
       "spikes_sum    55322\n",
       "Name: 1, dtype: int64"
      ]
     },
     "execution_count": 49,
     "metadata": {},
     "output_type": "execute_result"
    }
   ],
   "source": [
    "df.loc[1]"
   ]
  },
  {
   "cell_type": "markdown",
   "id": "8a5fb811-1d77-4a1c-b120-a2d44ce1bc88",
   "metadata": {},
   "source": [
    "The third trigger will count many more spikes, as we have set a much larger time window."
   ]
  },
  {
   "cell_type": "markdown",
   "id": "50e35f88-b98d-4e64-9f52-57446ab8665e",
   "metadata": {},
   "source": [
    "Let us plot the results"
   ]
  },
  {
   "cell_type": "code",
   "execution_count": 64,
   "id": "7bc7a567-4b84-47e7-88e1-897a559c4720",
   "metadata": {},
   "outputs": [
    {
     "data": {
      "text/markdown": [
       "<span style=\"font-family: monospace\">#fe7c7c <span style=\"color: #fe7c7c\">████</span></span> <span style=\"font-family: monospace\">#000000 <span style=\"color: #000000\">████</span></span> <span style=\"font-family: monospace\">#fafe7c <span style=\"color: #fafe7c\">████</span></span> <span style=\"font-family: monospace\">#000000 <span style=\"color: #000000\">████</span></span> <span style=\"font-family: monospace\">#8afe7c <span style=\"color: #8afe7c\">████</span></span> <span style=\"font-family: monospace\">#000000 <span style=\"color: #000000\">████</span></span> <span style=\"font-family: monospace\">#7cfcfe <span style=\"color: #7cfcfe\">████</span></span> <span style=\"font-family: monospace\">#000000 <span style=\"color: #000000\">████</span></span> <span style=\"font-family: monospace\">#7c86fe <span style=\"color: #7c86fe\">████</span></span> <span style=\"font-family: monospace\">#000000 <span style=\"color: #000000\">████</span></span> <span style=\"font-family: monospace\">#fe7cfe <span style=\"color: #fe7cfe\">████</span></span> <span style=\"font-family: monospace\">#000000 <span style=\"color: #000000\">████</span></span>"
      ],
      "text/plain": [
       "<IPython.core.display.Markdown object>"
      ]
     },
     "metadata": {},
     "output_type": "display_data"
    }
   ],
   "source": [
    "import colour_template\n",
    "import plotly_templates\n",
    "CT = colour_template.Colour_template()\n",
    "CT.pick_stimulus(\"FFF_6_MC\")"
   ]
  },
  {
   "cell_type": "code",
   "execution_count": 57,
   "id": "621c04af-708b-4735-aa1f-a9336b217a5e",
   "metadata": {},
   "outputs": [
    {
     "data": {
      "text/plain": [
       "array([0.2     , 0.2     , 3.601865, 0.2     , 0.2     , 3.601935,\n",
       "       0.2     , 0.2     , 3.601935, 0.2     , 0.2     , 3.60194 ,\n",
       "       0.2     , 0.2     , 3.60194 , 0.2     , 0.2     , 3.601945])"
      ]
     },
     "execution_count": 57,
     "metadata": {},
     "output_type": "execute_result"
    }
   ],
   "source": [
    "# We can get the duration of each trigger:\n",
    "flash_durations = stimulus_spikes.mean_trigger_times(recording.dataframes[\"fff_sus_tran\"], [\"all\"])\n",
    "flash_durations"
   ]
  },
  {
   "cell_type": "code",
   "execution_count": 58,
   "id": "32bc1162-891a-40ea-b647-5c445c919272",
   "metadata": {},
   "outputs": [],
   "source": [
    "df[\"spikes_per_s\"] = df[\"spikes_sum\"]/flash_durations"
   ]
  },
  {
   "cell_type": "code",
   "execution_count": 68,
   "id": "492b3cf1-b679-49e3-babc-556ca6d69233",
   "metadata": {},
   "outputs": [
    {
     "data": {
      "application/vnd.plotly.v1+json": {
       "config": {
        "plotlyServerURL": "https://plotly.com"
       },
       "data": [
        {
         "marker": {
          "color": [
           "#fe7c7c",
           "#fafe7c",
           "#8afe7c",
           "#7cfcfe",
           "#7c86fe",
           "#fe7cfe"
          ]
         },
         "name": "0.2s",
         "type": "bar",
         "visible": true,
         "x": [
          "LED_610",
          "LED_560",
          "LED_535",
          "LED_460",
          "LED_410",
          "LED_365"
         ],
         "y": [
          340165,
          373480,
          370185,
          346210,
          326040,
          234690
         ]
        },
        {
         "marker": {
          "color": [
           "#fe7c7c",
           "#fafe7c",
           "#8afe7c",
           "#7cfcfe",
           "#7c86fe",
           "#fe7cfe"
          ]
         },
         "name": "0.4s",
         "type": "bar",
         "visible": true,
         "x": [
          "LED_610",
          "LED_560",
          "LED_535",
          "LED_460",
          "LED_410",
          "LED_365"
         ],
         "y": [
          276610,
          269835,
          261480,
          260310,
          275945,
          231870
         ]
        }
       ],
       "layout": {
        "autosize": true,
        "template": {
         "layout": {
          "margin": {
           "pad": 5
          },
          "paper_bgcolor": "rgba(255, 255, 255, 255)",
          "plot_bgcolor": "rgba(255, 255, 255, 255)",
          "xaxis": {
           "linecolor": "black",
           "linewidth": 2,
           "showgrid": false,
           "showline": true,
           "tickfont": {
            "family": "Arial"
           },
           "ticks": "outside",
           "title": {
            "font": {
             "family": "Arial"
            },
            "standoff": 1
           },
           "zeroline": false
          },
          "yaxis": {
           "linecolor": "black",
           "linewidth": 2,
           "showgrid": false,
           "showline": true,
           "tickfont": {
            "family": "Arial"
           },
           "ticks": "outside",
           "title": {
            "font": {
             "family": "Arial"
            },
            "standoff": 1
           },
           "zeroline": false
          }
         }
        },
        "xaxis": {
         "autorange": true,
         "range": [
          -0.5,
          5.5
         ],
         "type": "category"
        },
        "yaxis": {
         "autorange": true,
         "range": [
          0,
          393136.84210526315
         ],
         "title": {
          "text": "Summed spikes"
         },
         "type": "linear"
        }
       }
      },
      "image/png": "[encoded data removed]",
      "text/html": [
       "<div>                            <div id=\"a60e2b4f-e7f7-4dd0-9ad6-fdeed8b4ec21\" class=\"plotly-graph-div\" style=\"height:525px; width:100%;\"></div>            <script type=\"text/javascript\">                require([\"plotly\"], function(Plotly) {                    window.PLOTLYENV=window.PLOTLYENV || {};                                    if (document.getElementById(\"a60e2b4f-e7f7-4dd0-9ad6-fdeed8b4ec21\")) {                    Plotly.newPlot(                        \"a60e2b4f-e7f7-4dd0-9ad6-fdeed8b4ec21\",                        [{\"marker\":{\"color\":[\"#fe7c7c\",\"#fafe7c\",\"#8afe7c\",\"#7cfcfe\",\"#7c86fe\",\"#fe7cfe\"]},\"name\":\"0.2s\",\"x\":[\"LED_610\",\"LED_560\",\"LED_535\",\"LED_460\",\"LED_410\",\"LED_365\"],\"y\":[340165.0,373480.0,370185.0,346210.0,326040.0,234690.0],\"type\":\"bar\"},{\"marker\":{\"color\":[\"#fe7c7c\",\"#fafe7c\",\"#8afe7c\",\"#7cfcfe\",\"#7c86fe\",\"#fe7cfe\"]},\"name\":\"0.4s\",\"x\":[\"LED_610\",\"LED_560\",\"LED_535\",\"LED_460\",\"LED_410\",\"LED_365\"],\"y\":[276610.0,269835.0,261480.0,260310.0,275945.0,231870.0],\"type\":\"bar\"}],                        {\"template\":{\"layout\":{\"margin\":{\"pad\":5},\"paper_bgcolor\":\"rgba(255, 255, 255, 255)\",\"plot_bgcolor\":\"rgba(255, 255, 255, 255)\",\"xaxis\":{\"linecolor\":\"black\",\"linewidth\":2,\"showgrid\":false,\"showline\":true,\"tickfont\":{\"family\":\"Arial\"},\"ticks\":\"outside\",\"title\":{\"font\":{\"family\":\"Arial\"},\"standoff\":1},\"zeroline\":false},\"yaxis\":{\"linecolor\":\"black\",\"linewidth\":2,\"showgrid\":false,\"showline\":true,\"tickfont\":{\"family\":\"Arial\"},\"ticks\":\"outside\",\"title\":{\"font\":{\"family\":\"Arial\"},\"standoff\":1},\"zeroline\":false}}},\"yaxis\":{\"title\":{\"text\":\"Summed spikes\"}}},                        {\"responsive\": true}                    ).then(function(){\n",
       "                            \n",
       "var gd = document.getElementById('a60e2b4f-e7f7-4dd0-9ad6-fdeed8b4ec21');\n",
       "var x = new MutationObserver(function (mutations, observer) {{\n",
       "        var display = window.getComputedStyle(gd).display;\n",
       "        if (!display || display === 'none') {{\n",
       "            console.log([gd, 'removed!']);\n",
       "            Plotly.purge(gd);\n",
       "            observer.disconnect();\n",
       "        }}\n",
       "}});\n",
       "\n",
       "// Listen for the removal of the full notebook cells\n",
       "var notebookContainer = gd.closest('#notebook-container');\n",
       "if (notebookContainer) {{\n",
       "    x.observe(notebookContainer, {childList: true});\n",
       "}}\n",
       "\n",
       "// Listen for the clearing of the current output cell\n",
       "var outputEl = gd.closest('.output');\n",
       "if (outputEl) {{\n",
       "    x.observe(outputEl, {childList: true});\n",
       "}}\n",
       "\n",
       "                        })                };                });            </script>        </div>"
      ]
     },
     "metadata": {},
     "output_type": "display_data"
    }
   ],
   "source": [
    "fig = go.Figure()\n",
    "fig.add_trace(go.Bar(x=CT.names[::2], y=df[\"spikes_per_s\"][::3], marker_color=CT.colours[::2], name=\"0.2s\"))\n",
    "fig.add_trace(go.Bar(x=CT.names[::2], y=df[\"spikes_per_s\"][1::3], marker_color=CT.colours[::2], name=\"0.4s\"))\n",
    "fig.update_layout(template=\"scatter_template\")\n",
    "fig.update_yaxes(title=\"Summed spikes\")"
   ]
  },
  {
   "cell_type": "markdown",
   "id": "e1d509ca-3f21-48e3-9dbf-ab00545da3ff",
   "metadata": {},
   "source": [
    "Obviously, this is only the beginning of the analysis. Ideally, one want to calculate this for each cell individually. Which is possible. This notebook only wants to give a general idea. "
   ]
  },
  {
   "cell_type": "code",
   "execution_count": 80,
   "id": "253a42a0-6f01-4836-bca4-0a32e1c29502",
   "metadata": {},
   "outputs": [
    {
     "data": {
      "application/vnd.plotly.v1+json": {
       "config": {
        "plotlyServerURL": "https://plotly.com"
       },
       "data": [
        {
         "marker": {
          "color": [
           "#fe7c7c",
           "#fafe7c",
           "#8afe7c",
           "#7cfcfe",
           "#7c86fe",
           "#fe7cfe"
          ]
         },
         "name": "0.2s",
         "type": "bar",
         "x": [
          "LED_610",
          "LED_560",
          "LED_535",
          "LED_460",
          "LED_410",
          "LED_365"
         ],
         "y": [
          0.8131641997266033,
          0.7224884866659527,
          0.7063495279387333,
          0.7518846942607088,
          0.8463532081953135,
          0.9879841493033363
         ]
        }
       ],
       "layout": {
        "autosize": true,
        "template": {
         "layout": {
          "margin": {
           "pad": 5
          },
          "paper_bgcolor": "rgba(255, 255, 255, 255)",
          "plot_bgcolor": "rgba(255, 255, 255, 255)",
          "xaxis": {
           "linecolor": "black",
           "linewidth": 2,
           "showgrid": false,
           "showline": true,
           "tickfont": {
            "family": "Arial"
           },
           "ticks": "outside",
           "title": {
            "font": {
             "family": "Arial"
            },
            "standoff": 1
           },
           "zeroline": false
          },
          "yaxis": {
           "linecolor": "black",
           "linewidth": 2,
           "showgrid": false,
           "showline": true,
           "tickfont": {
            "family": "Arial"
           },
           "ticks": "outside",
           "title": {
            "font": {
             "family": "Arial"
            },
            "standoff": 1
           },
           "zeroline": false
          }
         }
        },
        "title": {
         "text": "Relative spike counts 0.4s/0.2s"
        },
        "xaxis": {
         "autorange": true,
         "range": [
          -0.5,
          5.5
         ],
         "type": "category"
        },
        "yaxis": {
         "autorange": true,
         "range": [
          0,
          1.0399833150561435
         ],
         "title": {
          "text": "Summed spikes"
         },
         "type": "linear"
        }
       }
      },
      "image/png": "[encoded data removed]",
      "text/html": [
       "<div>                            <div id=\"2405f4d8-4279-4e38-8280-f15d007db739\" class=\"plotly-graph-div\" style=\"height:525px; width:100%;\"></div>            <script type=\"text/javascript\">                require([\"plotly\"], function(Plotly) {                    window.PLOTLYENV=window.PLOTLYENV || {};                                    if (document.getElementById(\"2405f4d8-4279-4e38-8280-f15d007db739\")) {                    Plotly.newPlot(                        \"2405f4d8-4279-4e38-8280-f15d007db739\",                        [{\"marker\":{\"color\":[\"#fe7c7c\",\"#fafe7c\",\"#8afe7c\",\"#7cfcfe\",\"#7c86fe\",\"#fe7cfe\"]},\"name\":\"0.2s\",\"x\":[\"LED_610\",\"LED_560\",\"LED_535\",\"LED_460\",\"LED_410\",\"LED_365\"],\"y\":[0.8131641997266033,0.7224884866659527,0.7063495279387333,0.7518846942607088,0.8463532081953135,0.9879841493033363],\"type\":\"bar\"}],                        {\"template\":{\"layout\":{\"margin\":{\"pad\":5},\"paper_bgcolor\":\"rgba(255, 255, 255, 255)\",\"plot_bgcolor\":\"rgba(255, 255, 255, 255)\",\"xaxis\":{\"linecolor\":\"black\",\"linewidth\":2,\"showgrid\":false,\"showline\":true,\"tickfont\":{\"family\":\"Arial\"},\"ticks\":\"outside\",\"title\":{\"font\":{\"family\":\"Arial\"},\"standoff\":1},\"zeroline\":false},\"yaxis\":{\"linecolor\":\"black\",\"linewidth\":2,\"showgrid\":false,\"showline\":true,\"tickfont\":{\"family\":\"Arial\"},\"ticks\":\"outside\",\"title\":{\"font\":{\"family\":\"Arial\"},\"standoff\":1},\"zeroline\":false}}},\"title\":{\"text\":\"Relative spike counts 0.4s\\u002f0.2s\"},\"yaxis\":{\"title\":{\"text\":\"Summed spikes\"}}},                        {\"responsive\": true}                    ).then(function(){\n",
       "                            \n",
       "var gd = document.getElementById('2405f4d8-4279-4e38-8280-f15d007db739');\n",
       "var x = new MutationObserver(function (mutations, observer) {{\n",
       "        var display = window.getComputedStyle(gd).display;\n",
       "        if (!display || display === 'none') {{\n",
       "            console.log([gd, 'removed!']);\n",
       "            Plotly.purge(gd);\n",
       "            observer.disconnect();\n",
       "        }}\n",
       "}});\n",
       "\n",
       "// Listen for the removal of the full notebook cells\n",
       "var notebookContainer = gd.closest('#notebook-container');\n",
       "if (notebookContainer) {{\n",
       "    x.observe(notebookContainer, {childList: true});\n",
       "}}\n",
       "\n",
       "// Listen for the clearing of the current output cell\n",
       "var outputEl = gd.closest('.output');\n",
       "if (outputEl) {{\n",
       "    x.observe(outputEl, {childList: true});\n",
       "}}\n",
       "\n",
       "                        })                };                });            </script>        </div>"
      ]
     },
     "metadata": {},
     "output_type": "display_data"
    }
   ],
   "source": [
    "fig = go.Figure()\n",
    "fig.add_trace(go.Bar(x=CT.names[::2], y=df[\"spikes_per_s\"][1::3].to_numpy()/df[\"spikes_per_s\"][::3].to_numpy(), marker_color=CT.colours[::2], name=\"0.2s\"))\n",
    "fig.update_layout(template=\"scatter_template\", title=\"Relative spike counts 0.4s/0.2s\")\n",
    "fig.update_yaxes(title=\"Summed spikes\")"
   ]
  },
  {
   "cell_type": "markdown",
   "id": "98c40141-16b0-41c5-9ba3-bbc148639ac5",
   "metadata": {},
   "source": [
    "# Advanced polars use"
   ]
  },
  {
   "cell_type": "code",
   "execution_count": 3,
   "id": "7d7da504-0fed-41ec-9e2b-45847c53f31f",
   "metadata": {},
   "outputs": [],
   "source": [
    "spikes_df = recording.get_spikes_df(stimulus_df = \"fff_sus_tran\", pandas=False)"
   ]
  },
  {
   "cell_type": "code",
   "execution_count": 4,
   "id": "6c3127a8-144d-4a47-8a57-c5ffbdb06c5e",
   "metadata": {},
   "outputs": [],
   "source": [
    "dfs = spikes_df.partition_by(\"cell_index\")"
   ]
  },
  {
   "cell_type": "code",
   "execution_count": 5,
   "id": "0184ffcd-03aa-456e-a158-b33f61daf624",
   "metadata": {},
   "outputs": [],
   "source": [
    "dfs_result = []\n",
    "for df in dfs:\n",
    "    df_temp = spiketrains.count_spikes(df, columns=\"trigger\")\n",
    "    df_temp = df_temp.with_columns(cell_index = pl.lit(df.unique(\"cell_index\")[\"cell_index\"]))\n",
    "    dfs_result.append(df_temp)\n",
    "    "
   ]
  },
  {
   "cell_type": "code",
   "execution_count": 6,
   "id": "629000f5-b898-4284-bdb2-7183b930d1d9",
   "metadata": {},
   "outputs": [],
   "source": [
    "df_result = pl.concat(dfs_result).to_pandas()"
   ]
  },
  {
   "cell_type": "code",
   "execution_count": 42,
   "id": "3fade9f2-11e0-4b5a-9f9c-649a1b02d204",
   "metadata": {},
   "outputs": [],
   "source": [
    "fig = px.scatter(df_result, x=\"trigger\", y=\"spikes_sum\")\n",
    "fig.show(renderer=\"browser\")"
   ]
  },
  {
   "cell_type": "markdown",
   "id": "b114b4c0-4dff-475a-bf48-a61d2516919e",
   "metadata": {},
   "source": [
    "# Saving results:\n",
    "We can save combined results in the analysis dictionary"
   ]
  },
  {
   "cell_type": "code",
   "execution_count": 7,
   "id": "d6a183b2-bc63-40d2-bb71-4b87e1a6b557",
   "metadata": {},
   "outputs": [],
   "source": [
    "recording.analysis = {}\n",
    "recording.analysis[\"trans_sus\"] = {}\n",
    "recording.analysis[\"trans_sus\"][\"stimulus_df\"] = \"fff_sus_tran\"\n",
    "recording.analysis[\"trans_sus\"][\"spike_counts\"] = df_result"
   ]
  },
  {
   "cell_type": "code",
   "execution_count": 9,
   "id": "38032a21-3995-451f-a6bc-3c055647f76c",
   "metadata": {},
   "outputs": [],
   "source": [
    "recording.save(recording.load_path)"
   ]
  },
  {
   "cell_type": "code",
   "execution_count": 8,
   "id": "f557ee14-108e-4996-b667-0187b2f6ec9e",
   "metadata": {},
   "outputs": [
    {
     "data": {
      "text/plain": [
       "{'trans_sus': {'stimulus_df': 'fff_sus_tran',\n",
       "  'spike_counts':       trigger  spikes_sum  cell_index\n",
       "  0           0         282           0\n",
       "  1           1         287           0\n",
       "  2           2        4694           0\n",
       "  3           3         280           0\n",
       "  4           4         264           0\n",
       "  ...       ...         ...         ...\n",
       "  5138        3           2         203\n",
       "  5139        8           2         203\n",
       "  5140       11           1         203\n",
       "  5141       15           1         203\n",
       "  5142       17           1         203\n",
       "  \n",
       "  [5143 rows x 3 columns]}}"
      ]
     },
     "execution_count": 8,
     "metadata": {},
     "output_type": "execute_result"
    }
   ],
   "source": [
    "recording.analysis"
   ]
  },
  {
   "cell_type": "code",
   "execution_count": null,
   "id": "5ff9fa86-20d2-4717-9977-37b8c11bbcc1",
   "metadata": {},
   "outputs": [],
   "source": []
  }
 ],
 "metadata": {
  "kernelspec": {
   "display_name": "Python 3 (ipykernel)",
   "language": "python",
   "name": "python3"
  },
  "language_info": {
   "codemirror_mode": {
    "name": "ipython",
    "version": 3
   },
   "file_extension": ".py",
   "mimetype": "text/x-python",
   "name": "python",
   "nbconvert_exporter": "python",
   "pygments_lexer": "ipython3",
   "version": "3.10.10"
  }
 },
 "nbformat": 4,
 "nbformat_minor": 5
}
