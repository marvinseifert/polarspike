{
 "cells": [
  {
   "cell_type": "markdown",
   "id": "f1a3e16b-c277-4047-b400-34e05fd70af6",
   "metadata": {},
   "source": [
    "# Analysis example\n",
    "This notebook shows you how the different utilities of the recording class can be used effectively to make spike train analysis super easy! </br>\n",
    "In this first analysis we want to plot tuning curves for full field flash responses consisting of flashes at 6 different wavelengths. </br>\n",
    "To do this, we need to count the number of spikes collected for each wavelenght.</br>\n",
    "First we load the data"
   ]
  },
  {
   "cell_type": "code",
   "execution_count": null,
   "id": "9b6a6b40-14a8-4020-8a07-0781e4fdd960",
   "metadata": {},
   "outputs": [],
   "source": [
    "from importlib import reload  \n",
    "import panel as pn\n",
    "pn.extension('tabulator')\n",
    "import numpy as np\n",
    "import plotly.express as px\n",
    "import Overview\n",
    "import polars as pl\n",
    "pn.extension()\n",
    "pn.extension('plotly')\n",
    "import colour_template\n",
    "import spiketrain_plots\n",
    "import moving_bars\n",
    "import chirps\n",
    "import stimulus_spikes\n",
    "import plotly.graph_objs as go\n",
    "import matplotlib.pyplot as plt\n",
    "import pandas as pd\n",
    "import plotly_templates\n",
    "import spiketrains"
   ]
  },
  {
   "cell_type": "code",
   "execution_count": null,
   "id": "2e6e2d3b-e836-4b83-81fb-fd2a6ff1bd47",
   "metadata": {},
   "outputs": [],
   "source": [
    "recording = Overview.Recording.load(r\"D:\\Zebrafish_14_11_23\\ks_sorted\\overview\")"
   ]
  },
  {
   "cell_type": "code",
   "execution_count": null,
   "id": "cbdf7668-d023-4217-81c1-b6cb4ef547d4",
   "metadata": {},
   "outputs": [],
   "source": [
    "recording.show_df()"
   ]
  },
  {
   "cell_type": "markdown",
   "id": "f1159668-30da-42e9-8645-0e17c87d37eb",
   "metadata": {},
   "source": [
    "Lets have a look at the stimuli in this recording:"
   ]
  },
  {
   "cell_type": "code",
   "execution_count": null,
   "id": "8ebb3739-ef5e-4560-8696-04f485f8ada4",
   "metadata": {},
   "outputs": [],
   "source": [
    "recording.dataframes[\"stimulus_df\"]"
   ]
  },
  {
   "cell_type": "markdown",
   "id": "5d07982e-a98f-43f9-9689-53c01e1c2c9e",
   "metadata": {},
   "source": [
    "We are going to analyse the full field flash stimulus. This stimulus was played two times, stimulus indices 0 and 5. </br>\n",
    "Let us check how similar the responses were to these stimuli by plotting an overview."
   ]
  },
  {
   "cell_type": "code",
   "execution_count": null,
   "id": "6b57df39-97eb-40ff-b7b9-bdd294dfb689",
   "metadata": {},
   "outputs": [],
   "source": [
    "spikes_df = recording.get_spikes_triggered([[20],[21],[24]], [[\"all\"]])\n",
    "spikes_df"
   ]
  },
  {
   "cell_type": "code",
   "execution_count": null,
   "id": "d9b29212-72de-4504-85a8-b519c82476e4",
   "metadata": {},
   "outputs": [],
   "source": [
    "%matplotlib widget\n",
    "# Establish the colour_template and load the correct stimulus:\n",
    "CT = colour_template.Colour_template()\n",
    "CT.pick_stimulus(\"FFF_6_MC\")\n",
    "# Calculate the mean value of the stimuli across stimulus presentations:\n",
    "flash_durations = stimulus_spikes.mean_trigger_times(recording.stimulus_df, [0])\n",
    "# Plot the cells and spikes:\n",
    "fig, ax = spiketrain_plots.whole_stimulus(spikes_df, stacked=True, height=10, index=\"stimulus_index\")\n",
    "#fig = CT.add_stimulus_to_plot(fig, flash_durations, names=False)"
   ]
  },
  {
   "cell_type": "markdown",
   "id": "82d90e85-70b3-43f4-b3b8-cfa2cc939421",
   "metadata": {},
   "source": [
    "We can see that the second stimulus presentation triggered much stronger responses than the first on. </br>"
   ]
  },
  {
   "cell_type": "markdown",
   "id": "98167d3b-4d62-499f-b798-033d5acf3e0f",
   "metadata": {},
   "source": [
    "## Quality check\n",
    "We might want to check the quality of the responses of the cells before we continue to analyse the tuning curves."
   ]
  },
  {
   "cell_type": "code",
   "execution_count": null,
   "id": "4217162c-f16d-40da-ad50-f9ea54bef04f",
   "metadata": {},
   "outputs": [],
   "source": [
    "import binarizer"
   ]
  },
  {
   "cell_type": "markdown",
   "id": "69671c85-faad-4e9e-81af-a757b54691d6",
   "metadata": {},
   "source": [
    "We could feed both stimuli into the quality control, this would give us the quality of a cell responding to both stimuli:"
   ]
  },
  {
   "cell_type": "code",
   "execution_count": null,
   "id": "f3ba64ef-d5d8-427a-98b9-d2a8242be643",
   "metadata": {},
   "outputs": [],
   "source": [
    "spikes_df = recording.get_spikes_triggered([[\"FFF\"]], [[\"all\"]], pandas=False)\n",
    "binary_df = binarizer.timestamps_to_binary_multi(spikes_df, 0.001, np.sum(flash_durations), np.max(recording.stimulus_df.loc[[0,5]][\"nr_repeats\"]))"
   ]
  },
  {
   "cell_type": "code",
   "execution_count": null,
   "id": "c1c9f257-5498-45e9-8f9c-e37138e4d8c8",
   "metadata": {},
   "outputs": [],
   "source": [
    "qis = binarizer.calc_qis(binary_df)"
   ]
  },
  {
   "cell_type": "code",
   "execution_count": null,
   "id": "c8b3e16a-2da4-42e5-8cf3-6727b09d71e5",
   "metadata": {},
   "outputs": [],
   "source": [
    "qis"
   ]
  },
  {
   "cell_type": "markdown",
   "id": "44d8ba34-31a8-41b7-ae38-95945b99a830",
   "metadata": {},
   "source": [
    "Lets create a new dataframe which we can use for analysis. We can get the cell indices of cells that spikes in both instances:"
   ]
  },
  {
   "cell_type": "code",
   "execution_count": null,
   "id": "12e09f37-2561-4005-bac7-3ff31ef3be22",
   "metadata": {},
   "outputs": [],
   "source": [
    "cell_ids = binary_df[\"cell_index\"].unique().to_numpy()\n",
    "cell_ids"
   ]
  },
  {
   "cell_type": "markdown",
   "id": "1cde22c4-1488-4107-aae3-1a736310942b",
   "metadata": {},
   "source": [
    "We create a new dataframe, which only contains those cells:"
   ]
  },
  {
   "cell_type": "code",
   "execution_count": null,
   "id": "7c530a74-1055-49c9-a919-ac342bba5439",
   "metadata": {},
   "outputs": [],
   "source": [
    "recording.dataframes[\"fff_analysis\"] = recording.extract_df_subset(cell_ids.tolist(), stimulus_name=[\"FFF\"])"
   ]
  },
  {
   "cell_type": "markdown",
   "id": "c6597fc0-c154-446c-b2dd-5cf0029e78ca",
   "metadata": {},
   "source": [
    "We can create a new dataframe which contains the qi values and than add this to the dataframe in the recording"
   ]
  },
  {
   "cell_type": "code",
   "execution_count": null,
   "id": "6a773ed6-8a1f-4a97-b8d4-e977c2b110de",
   "metadata": {},
   "outputs": [],
   "source": [
    "qi_df = pd.Series(index=pd.Index(cell_ids, name=\"cell_index\"), data=qis, name=\"qi\")"
   ]
  },
  {
   "cell_type": "code",
   "execution_count": null,
   "id": "639f5a71-b50b-471c-9472-ea18be5dd674",
   "metadata": {},
   "outputs": [],
   "source": [
    "recording.add_column(qi_df, \"fff_analysis\")"
   ]
  },
  {
   "cell_type": "code",
   "execution_count": null,
   "id": "26c0a192-9e8d-4e8a-97d6-2641f3461015",
   "metadata": {},
   "outputs": [],
   "source": [
    "recording.dataframes[\"fff_analysis\"]"
   ]
  },
  {
   "cell_type": "markdown",
   "id": "f4f80fa3-4da1-487e-b953-5e5517c88ed3",
   "metadata": {},
   "source": [
    "Lets plot the best 50 cells to get an idea for how they behave:"
   ]
  },
  {
   "cell_type": "code",
   "execution_count": null,
   "id": "d6d071c3-8e76-4b5e-8082-05fc0da30bff",
   "metadata": {},
   "outputs": [],
   "source": [
    "selected_cells = recording.dataframes[\"fff_analysis\"].sort_values(\"qi\", ascending=False)[:100][::2][\"cell_index\"].tolist()\n",
    "\n",
    "spikes_df = recording.get_spikes_triggered([[\"FFF\"]], [selected_cells])"
   ]
  },
  {
   "cell_type": "code",
   "execution_count": null,
   "id": "415a9392-7db9-4fd5-ba46-472df2d3e96a",
   "metadata": {},
   "outputs": [],
   "source": [
    "fig, ax = spiketrain_plots.whole_stimulus(spikes_df, stacked=True, height=20)\n",
    "fig = CT.add_stimulus_to_plot(fig, flash_durations, names=False)"
   ]
  },
  {
   "cell_type": "markdown",
   "id": "572a35c2-fac4-44d2-a289-0caf0e77cc91",
   "metadata": {},
   "source": [
    "Lets look at the worst 50 cells"
   ]
  },
  {
   "cell_type": "code",
   "execution_count": null,
   "id": "62a5a343-4a3d-4652-b71b-993a7d3bbc1a",
   "metadata": {},
   "outputs": [],
   "source": [
    "selected_cells = recording.dataframes[\"fff_analysis\"].sort_values(\"qi\", ascending=False)[-100:][::2][\"cell_index\"].tolist()\n",
    "spikes_df = recording.get_spikes_triggered([[\"FFF\"]], [selected_cells])"
   ]
  },
  {
   "cell_type": "code",
   "execution_count": null,
   "id": "2a90bc1a-ab0d-49d6-9a99-acea57277902",
   "metadata": {},
   "outputs": [],
   "source": [
    "fig, ax = spiketrain_plots.whole_stimulus(spikes_df, stacked=True, height=20)\n",
    "fig = CT.add_stimulus_to_plot(fig, flash_durations, names=False)"
   ]
  },
  {
   "cell_type": "markdown",
   "id": "d30cd802-fab5-4dd3-a398-afde599acd80",
   "metadata": {},
   "source": [
    "Lets calculate the tuning curve for the first 100 cells: </br>\n",
    "We can just calculate the average histogram (as plotted in the figure) and than find the peaks:"
   ]
  },
  {
   "cell_type": "code",
   "execution_count": null,
   "id": "a0724604-6fb2-4e11-a703-a975a6688386",
   "metadata": {},
   "outputs": [],
   "source": [
    "from scipy.signal import find_peaks\n",
    "import histograms"
   ]
  },
  {
   "cell_type": "code",
   "execution_count": null,
   "id": "db555228-af70-4bd4-822a-500af341e9ca",
   "metadata": {},
   "outputs": [],
   "source": [
    "selected_cells = recording.dataframes[\"fff_analysis\"].sort_values(\"qi\", ascending=False)[:100][::2][\"cell_index\"].tolist()\n",
    "spikes_df = recording.get_spikes_triggered([[\"FFF\"]], [selected_cells])\n",
    "\n",
    "psth, bins = histograms.psth(spikes_df, bin_size=0.05, end = np.sum(flash_durations))\n",
    "psth = psth/len(selected_cells)*0.05 # Calculate the mean per cell and as spikes per seconds, similar to the figure\n"
   ]
  },
  {
   "cell_type": "code",
   "execution_count": null,
   "id": "e6bcb0fe-8a58-4bc5-b238-38da2593890d",
   "metadata": {},
   "outputs": [],
   "source": [
    "peaks, properties = find_peaks(psth, distance=1/0.05, height=2)"
   ]
  },
  {
   "cell_type": "code",
   "execution_count": null,
   "id": "6eab85be-e6d0-4d60-bceb-074be52c5619",
   "metadata": {},
   "outputs": [],
   "source": [
    "import Opsins\n",
    "reload(Opsins)\n",
    "tmpl = Opsins.Opsin_template()\n",
    "fig = tmpl.plot_overview([\"Zebrafish\"])\n",
    "fig.update_layout(height=600, width=600)\n",
    "\n",
    "fig.add_trace(go.Scatter(x=CT.wavelengths[:peaks.shape[0]][::2], y=properties[\"peak_heights\"][::2]/np.max(properties[\"peak_heights\"][::2]), mode=\"lines\", line=dict(color=\"yellow\"), name=\"ON Response\"))\n",
    "fig.update_layout(template=\"scatter_template\")\n",
    "\n",
    "fig.add_trace(go.Scatter(x=CT.wavelengths[:peaks.shape[0]][1::2], y=properties[\"peak_heights\"][1::2]/np.max(properties[\"peak_heights\"][::2]), mode=\"lines\", line=dict(color=\"black\"), name=\"OFF Response\"))\n",
    "fig.update_layout(template=\"scatter_template\")\n",
    "fig.update_yaxes(title=\"Spike count\")\n",
    "fig.update_xaxes(title=\"Wavelength\")\n",
    "fig.show()"
   ]
  },
  {
   "cell_type": "markdown",
   "id": "c91d6f81-eb3f-443b-a996-8f0aaf8af802",
   "metadata": {},
   "source": [
    "A slightly more reliable way would be to calculate the max at specific periods: </br>\n",
    "Here, we can use the flexibility of the recording object to extract from the recording: </br>\n",
    "First, we create new trigger signals, that fit to out time windows, then we extract the spikes as we want:"
   ]
  },
  {
   "cell_type": "code",
   "execution_count": null,
   "id": "4c4e05c0-72f4-4051-a833-dd9ee1906773",
   "metadata": {},
   "outputs": [],
   "source": [
    "# reminder, we already have a specific cell_df for this stimulus:\n",
    "recording.dataframes[\"fff_analysis\"]"
   ]
  },
  {
   "cell_type": "code",
   "execution_count": null,
   "id": "580abfda-4a5b-44d1-a480-830cb230698d",
   "metadata": {},
   "outputs": [],
   "source": [
    "# Lets look at the stimuli:"
   ]
  },
  {
   "cell_type": "markdown",
   "id": "e1b42978-4122-4fc9-b734-bf8930788790",
   "metadata": {},
   "source": [
    "Lets create a new trigger signal by halfing the existing triggers 2 times. </br>\n",
    "This means the new trigger signals are effectively every 1 second (4s/4)"
   ]
  },
  {
   "cell_type": "code",
   "execution_count": null,
   "id": "ef0607a8-6766-45bb-aabc-02f8ae1945a2",
   "metadata": {},
   "outputs": [],
   "source": [
    "fff_stim_df = recording.split_triggers(stimulus_indices=[0,5])\n",
    "fff_stim_df"
   ]
  },
  {
   "cell_type": "code",
   "execution_count": null,
   "id": "a1ffbcfb-92e1-46d1-a548-c992ad1fb5d0",
   "metadata": {},
   "outputs": [],
   "source": [
    "recording.dataframes[\"fff_tuning_curves\"] = fff_stim_df"
   ]
  },
  {
   "cell_type": "code",
   "execution_count": null,
   "id": "37bd9ca2-1d54-45c3-a01b-77b9c1a24897",
   "metadata": {},
   "outputs": [],
   "source": [
    "recording.dataframes[\"fff_tuning_curves\"]"
   ]
  },
  {
   "cell_type": "code",
   "execution_count": null,
   "id": "6189c4b4-374a-4816-a994-b65b0d2c6590",
   "metadata": {},
   "outputs": [],
   "source": [
    "tuning_df = recording.get_spikes_triggered([[0], [5]],[[\"all\"]],  stimulus_df=\"fff_tuning_curves\", cell_df=\"fff_analysis\", pandas=False)"
   ]
  },
  {
   "cell_type": "code",
   "execution_count": null,
   "id": "4aa5378b-4461-46a8-bea3-e62df30fd283",
   "metadata": {},
   "outputs": [],
   "source": [
    "trigger_df = spiketrains.count_spikes(tuning_df, columns=\"trigger\", name=\"count\")"
   ]
  },
  {
   "cell_type": "code",
   "execution_count": null,
   "id": "2e862354-a060-4311-9a1c-1054216ba61a",
   "metadata": {},
   "outputs": [],
   "source": [
    "on_trigger = np.arange(0,24,4) # New on every 4 seconds"
   ]
  },
  {
   "cell_type": "code",
   "execution_count": null,
   "id": "6c86e323-8501-484a-a2f5-6d5a01e0c6bb",
   "metadata": {},
   "outputs": [],
   "source": [
    "off_trigger  = np.arange(2,24,4) # New off every 4 seconds, starting after 2 seconds"
   ]
  },
  {
   "cell_type": "code",
   "execution_count": null,
   "id": "01daad1f-11c6-426d-be3e-4994db0d4ec5",
   "metadata": {},
   "outputs": [],
   "source": [
    "tuning_on = trigger_df.filter(pl.col(\"trigger\").is_in(on_trigger)).to_pandas()[\"count\"].to_numpy()"
   ]
  },
  {
   "cell_type": "code",
   "execution_count": null,
   "id": "436a5b0d-6727-453c-9203-8b37b1ba7787",
   "metadata": {},
   "outputs": [],
   "source": [
    "tuning_off = trigger_df.filter(pl.col(\"trigger\").is_in(off_trigger)).to_pandas()[\"count\"].to_numpy()"
   ]
  },
  {
   "cell_type": "code",
   "execution_count": null,
   "id": "8e18fa04-8852-4c22-91d7-f694d9e0940b",
   "metadata": {},
   "outputs": [],
   "source": [
    "tuning_on = tuning_on/np.max(tuning_on) #Normalization"
   ]
  },
  {
   "cell_type": "code",
   "execution_count": null,
   "id": "fa3bb73c-a0e9-4b45-bb55-4db5546143ba",
   "metadata": {},
   "outputs": [],
   "source": [
    "tuning_off = tuning_off/np.max(tuning_off) # Normalization"
   ]
  },
  {
   "cell_type": "code",
   "execution_count": null,
   "id": "f765bbf8-a8ce-4106-8e09-3201b180f5e8",
   "metadata": {},
   "outputs": [],
   "source": [
    "import Opsins\n",
    "reload(Opsins)\n",
    "tmpl = Opsins.Opsin_template()\n",
    "fig = tmpl.plot_overview([\"Zebrafish\"])\n",
    "fig.update_layout(height=600, width=600)\n",
    "\n",
    "\n",
    "fig.add_trace(go.Scatter(x=CT.wavelengths[::2], y=tuning_on, mode=\"lines\", line=dict(color=\"yellow\"), name=\"ON Response\"))\n",
    "fig.update_layout(template=\"scatter_template\")\n",
    "\n",
    "fig.add_trace(go.Scatter(x=CT.wavelengths[::2], y=tuning_off, mode=\"lines\", line=dict(color=\"black\"), name=\"OFF Response\"))\n",
    "fig.update_layout(template=\"scatter_template\")\n",
    "fig.update_yaxes(title=\"Spike count\")\n",
    "fig.update_xaxes(title=\"Wavelength\")\n",
    "fig.show()"
   ]
  },
  {
   "cell_type": "markdown",
   "id": "9e573d1d-53f1-49e6-94db-c33983855d76",
   "metadata": {},
   "source": [
    "As we can see, the results differ slightly (most noteably for the ON response). That is, because we have now considered the sum of spikes, rather than just the peak spike frequency."
   ]
  },
  {
   "cell_type": "markdown",
   "id": "8af0b230-ee2a-4127-a7f3-d3c029c614b5",
   "metadata": {},
   "source": [
    "# Save results\n",
    "Lets save one tuning curve per cell"
   ]
  },
  {
   "cell_type": "code",
   "execution_count": null,
   "id": "1f6e1b7f-5731-41f9-865f-5545291099d0",
   "metadata": {},
   "outputs": [],
   "source": [
    "trigger_df_cell = spiketrains.count_spikes(tuning_df,[\"stimulus_index\", \"cell_index\", \"trigger\"], name=\"count\")"
   ]
  },
  {
   "cell_type": "code",
   "execution_count": null,
   "id": "43a07691-aa78-4294-ac6c-8eae6d591625",
   "metadata": {},
   "outputs": [],
   "source": [
    "trigger_df_cell"
   ]
  },
  {
   "cell_type": "code",
   "execution_count": null,
   "id": "1e36a2f0-2b7e-414f-be58-08f1f42549ee",
   "metadata": {},
   "outputs": [],
   "source": [
    "spiketrains(trigger_df_cell.filter(pl.col(\"trigger\").is_in(on_trigger)), [\"stimulus_index\", \"cell_index\"], name"
   ]
  },
  {
   "cell_type": "code",
   "execution_count": null,
   "id": "f116331d-c81e-4a76-b2b9-413d3421b2bb",
   "metadata": {},
   "outputs": [],
   "source": [
    "tuning_on_cell = trigger_df_cell.filter(pl.col(\"trigger\").is_in(on_trigger)).group_by(\"stimulus_index\", \"cell_index\").agg(pl.col(\"count\").alias(\"tuning_on\")).to_pandas()"
   ]
  },
  {
   "cell_type": "code",
   "execution_count": null,
   "id": "aea7f074-0c86-4eb5-93c2-959b5ae8030c",
   "metadata": {},
   "outputs": [],
   "source": [
    "tuning_off_cell = trigger_df_cell.filter(pl.col(\"trigger\").is_in(off_trigger)).group_by(\"stimulus_index\", \"cell_index\").agg(pl.col(\"count\").alias(\"tuning_off\")).to_pandas()"
   ]
  },
  {
   "cell_type": "code",
   "execution_count": null,
   "id": "b6866e1c-4ed4-4c54-9e30-e1ed978cb0fe",
   "metadata": {},
   "outputs": [],
   "source": [
    "tuning_off_cell.set_index([\"stimulus_index\", \"cell_index\"]).squeeze().index.names"
   ]
  },
  {
   "cell_type": "markdown",
   "id": "dc342f49-5393-48cc-8d28-0131f6ade931",
   "metadata": {},
   "source": [
    "We end up with two pandas dataframes, which we can add to our previously created fff dataframe:"
   ]
  },
  {
   "cell_type": "code",
   "execution_count": null,
   "id": "5c794099-da16-460b-9e4b-052af6b767a2",
   "metadata": {},
   "outputs": [],
   "source": [
    "recording.add_column(tuning_off_cell.set_index([\"stimulus_index\", \"cell_index\"]).squeeze(), dataframe=\"fff_analysis\")"
   ]
  },
  {
   "cell_type": "code",
   "execution_count": null,
   "id": "e538e498-b815-4293-84b0-5e97995a4ace",
   "metadata": {},
   "outputs": [],
   "source": []
  },
  {
   "cell_type": "code",
   "execution_count": null,
   "id": "aa816a4f-6f15-4c32-9032-3e8fa84f2995",
   "metadata": {},
   "outputs": [],
   "source": [
    "recording.add_column(tuning_on_cell.set_index([\"stimulus_index\", \"cell_index\"]).squeeze(), dataframe=\"fff_analysis\")"
   ]
  },
  {
   "cell_type": "code",
   "execution_count": null,
   "id": "d763528a-1627-4219-bd44-a660ac2589dc",
   "metadata": {},
   "outputs": [],
   "source": [
    "recording.dataframes[\"fff_analysis\"]"
   ]
  },
  {
   "cell_type": "code",
   "execution_count": null,
   "id": "6f8208a9-cebb-4eb4-97f4-f7dc27aa6bcf",
   "metadata": {},
   "outputs": [],
   "source": [
    "recording.save(r\"D:\\zebrafish_26_10_23\\ks_sorted\\overview\")"
   ]
  },
  {
   "cell_type": "code",
   "execution_count": null,
   "id": "5655d944-350a-4a0f-8e74-1156c98a2734",
   "metadata": {},
   "outputs": [],
   "source": [
    "reload(spiketrains)"
   ]
  },
  {
   "cell_type": "code",
   "execution_count": null,
   "id": "9106556e-a437-41e8-a0f9-194652dfb5bd",
   "metadata": {},
   "outputs": [],
   "source": [
    "test = pl.from_pandas(spikes_df)"
   ]
  },
  {
   "cell_type": "code",
   "execution_count": null,
   "id": "dce945a8-b649-432f-b6cd-ffaf3e999cb6",
   "metadata": {},
   "outputs": [],
   "source": []
  },
  {
   "cell_type": "code",
   "execution_count": null,
   "id": "22fd99b8-f2df-43a7-9259-36a2a4a04773",
   "metadata": {},
   "outputs": [],
   "source": [
    "single_trig = spiketrains.collect_as_arrays(test, [\"trigger\"], \"times_triggered\", \"spikes_split\")"
   ]
  },
  {
   "cell_type": "code",
   "execution_count": null,
   "id": "3d21e3f9-1dd6-4657-a72b-60bf0f71ae78",
   "metadata": {},
   "outputs": [],
   "source": [
    "single_trig = single_trig[\"spikes_split\"].to_numpy()"
   ]
  },
  {
   "cell_type": "code",
   "execution_count": null,
   "id": "d40470a5-f223-4289-bc51-a8284701992d",
   "metadata": {},
   "outputs": [],
   "source": [
    "single_trig = single_trig - np.array([[0, 4, 8, 12, 16, 20]])"
   ]
  },
  {
   "cell_type": "code",
   "execution_count": null,
   "id": "3b1ad85c-f82d-4851-8de6-232eb05399a5",
   "metadata": {},
   "outputs": [],
   "source": [
    "single_trig"
   ]
  },
  {
   "cell_type": "code",
   "execution_count": null,
   "id": "db9c52a6-963c-4dfc-b543-f7b0a96fdd64",
   "metadata": {},
   "outputs": [],
   "source": [
    "from plotly.subplots import make_subplots\n",
    "fig = make_subplots(rows=6, cols=1, shared_xaxes=True)\n",
    "for idx, response in enumerate(single_trig[0]):\n",
    "    hist, bins = np.histogram(response, bins=np.arange(0,4.01, 0.01))\n",
    "    fig.add_trace(go.Scatter(x=bins[:-1], y=hist, mode=\"lines\", line=dict(color=CT.colours[::2][idx])), col=1, row=idx+1)"
   ]
  },
  {
   "cell_type": "code",
   "execution_count": null,
   "id": "8e011603-3189-4995-a782-8ab3b8027a44",
   "metadata": {},
   "outputs": [],
   "source": [
    "fig.update_layout(template=\"scatter_template\")\n",
    "fig.add_vrect(x0=2, x1=4, fillcolor=\"grey\", opacity=0.2, line_width=0)\n",
    "fig.update_xaxes(title=\"Time in s\")\n",
    "fig.show(renderer=\"browser\")\n"
   ]
  },
  {
   "cell_type": "code",
   "execution_count": null,
   "id": "1a0e8dd6-f774-4508-a40c-ee415cfd9f75",
   "metadata": {},
   "outputs": [],
   "source": [
    "from plotly.subplots import make_subplots\n",
    "fig = go.Figure()\n",
    "for idx, response in enumerate(single_trig[0]):\n",
    "    hist, bins = np.histogram(response, bins=np.arange(0,4.01, 0.01))\n",
    "    fig.add_trace(go.Scatter(x=bins[:-1], y=hist, mode=\"lines\", line=dict(color=CT.colours[::2][idx])))\n",
    "fig.update_layout(template=\"scatter_template\")\n",
    "fig.add_vrect(x0=2, x1=4, fillcolor=\"grey\", opacity=0.2, line_width=0)\n",
    "fig.show(renderer=\"browser\")"
   ]
  },
  {
   "cell_type": "code",
   "execution_count": null,
   "id": "6bd5effb-a9ca-4872-862e-cf64657192b9",
   "metadata": {},
   "outputs": [],
   "source": [
    "df = histograms.psth_by_index(test, 0.01, index=\"trigger\", window_end=4)"
   ]
  },
  {
   "cell_type": "code",
   "execution_count": null,
   "id": "2a32959b-8a74-4f90-bc74-0756cc110d15",
   "metadata": {},
   "outputs": [],
   "source": [
    "df"
   ]
  },
  {
   "cell_type": "code",
   "execution_count": null,
   "id": "42dabefe-7a98-4d48-b6fc-9a8c83a6290a",
   "metadata": {},
   "outputs": [],
   "source": [
    "test[\"trigger\"].n_unique()"
   ]
  },
  {
   "cell_type": "code",
   "execution_count": null,
   "id": "57210691-5c7e-4c9e-a8a6-a1da18e8eef8",
   "metadata": {},
   "outputs": [],
   "source": [
    "reload(spiketrains)\n",
    "reload(histograms)"
   ]
  },
  {
   "cell_type": "code",
   "execution_count": null,
   "id": "6d3ee38a-3e5b-49bb-b12b-2766abcd93ea",
   "metadata": {},
   "outputs": [],
   "source": [
    "recording.stimulus_df"
   ]
  },
  {
   "cell_type": "code",
   "execution_count": null,
   "id": "5589a001-62e2-4ef5-aa0b-58bcc33f7f3e",
   "metadata": {},
   "outputs": [],
   "source": [
    "c_steps = recording.get_spikes_triggered([[\"all\"]], [[11]])"
   ]
  },
  {
   "cell_type": "code",
   "execution_count": null,
   "id": "25158863-4aab-454e-8fd5-472c722feda7",
   "metadata": {},
   "outputs": [],
   "source": [
    "np.arange(0,40, 4)"
   ]
  },
  {
   "cell_type": "code",
   "execution_count": null,
   "id": "4da2c60b-79ae-4e2a-beb7-2654e43ebc77",
   "metadata": {},
   "outputs": [],
   "source": [
    "csteps_trigger = spiketrains.align_on_condition(c_steps, \"trigger\", np.arange(0,40, 4))"
   ]
  },
  {
   "cell_type": "code",
   "execution_count": null,
   "id": "43fddc11-7063-458f-bfb1-5916b05801b5",
   "metadata": {},
   "outputs": [],
   "source": [
    "reload(histograms)\n",
    "hist_csteps, bins_csteps = histograms.psth_by_index(trigger_df, 0.01, index=\"trigger\", to_bin=\"aligned_times\")"
   ]
  },
  {
   "cell_type": "code",
   "execution_count": null,
   "id": "6119225b-bd6b-431c-b616-0fdd734ee520",
   "metadata": {},
   "outputs": [],
   "source": [
    "hist_csteps = hist_csteps/np.max(hist_csteps)"
   ]
  },
  {
   "cell_type": "code",
   "execution_count": null,
   "id": "d161f702-30f0-49e2-9235-c5ee6cb2c65c",
   "metadata": {},
   "outputs": [],
   "source": [
    "CT.pick_stimulus(\"Contrast_Step\")"
   ]
  },
  {
   "cell_type": "code",
   "execution_count": null,
   "id": "dc0b74a9-efb9-49d1-b242-d044da6ef1be",
   "metadata": {},
   "outputs": [],
   "source": [
    "from plotly.subplots import make_subplots\n",
    "fig = go.Figure()\n",
    "for idx, cell in enumerate(hist_csteps):\n",
    "    fig.add_trace(go.Scatter(x=bins_csteps[:-1], y=cell, mode=\"lines\", line=dict(color=np.flipud(CT.colours)[1::2][idx])))\n",
    "fig.update_layout(template=\"scatter_template\")\n",
    "fig.add_vrect(x0=2, x1=4, fillcolor=\"grey\", opacity=0.2, line_width=0)\n",
    "fig.show(renderer=\"browser\")"
   ]
  },
  {
   "cell_type": "code",
   "execution_count": null,
   "id": "01fd6f93-bf04-4d73-aae2-d6e40759f802",
   "metadata": {},
   "outputs": [],
   "source": [
    "fff_df = recording.get_spikes_triggered([[\"all\"]], [[5]])"
   ]
  },
  {
   "cell_type": "code",
   "execution_count": null,
   "id": "12bd54b6-0aa3-4ab4-a7c9-8f0a2201038f",
   "metadata": {},
   "outputs": [],
   "source": [
    "fff_trigger = spiketrains.align_on_condition(fff_df, \"trigger\", np.arange(0,24, 4))"
   ]
  },
  {
   "cell_type": "code",
   "execution_count": null,
   "id": "1de771fa-a502-4198-84ad-ba18aafa1af7",
   "metadata": {},
   "outputs": [],
   "source": [
    "hist_fff, bins_fff = histograms.psth_by_index(fff_trigger, 0.01, index=\"trigger\", to_bin=\"aligned_times\")"
   ]
  },
  {
   "cell_type": "code",
   "execution_count": null,
   "id": "450e32b3-b820-4ece-8f04-97a96d60e448",
   "metadata": {},
   "outputs": [],
   "source": [
    "CT.pick_stimulus(\"FFF_6_MC\")"
   ]
  },
  {
   "cell_type": "code",
   "execution_count": null,
   "id": "4c137f46-7607-49eb-9533-4b9d1aa5da9d",
   "metadata": {},
   "outputs": [],
   "source": [
    "hist_fff = hist_fff/np.max(hist_fff)"
   ]
  },
  {
   "cell_type": "code",
   "execution_count": null,
   "id": "692e935b-7f58-4411-a30c-09c12f2f12c7",
   "metadata": {},
   "outputs": [],
   "source": [
    "for idx, cell in enumerate(hist_fff):\n",
    "    fig.add_trace(go.Scatter(x=bins_fff[:-1], y=cell, mode=\"lines\", line=dict(color=CT.colours[::2][idx])))"
   ]
  },
  {
   "cell_type": "code",
   "execution_count": null,
   "id": "9596db5e-88c3-49a2-8e56-e0892c3d462f",
   "metadata": {},
   "outputs": [],
   "source": [
    "fig.show(renderer=\"browser\")"
   ]
  },
  {
   "cell_type": "code",
   "execution_count": null,
   "id": "caab4248-bdc2-414b-8305-3c562f11fc9a",
   "metadata": {},
   "outputs": [],
   "source": [
    "spikes_df = recording.get_spikes_triggered([[8]], [[\"all\"]])"
   ]
  },
  {
   "cell_type": "code",
   "execution_count": null,
   "id": "e5c6e3f3-803d-4486-bf3f-479000b0211a",
   "metadata": {},
   "outputs": [],
   "source": [
    "fig, ax = spiketrain_plots.whole_stimulus(spikes_df, stacked=False, height=20)"
   ]
  },
  {
   "cell_type": "code",
   "execution_count": null,
   "id": "786b470b-7073-458e-b7b4-117b401862ef",
   "metadata": {},
   "outputs": [],
   "source": []
  }
 ],
 "metadata": {
  "kernelspec": {
   "display_name": "Python 3 (ipykernel)",
   "language": "python",
   "name": "python3"
  },
  "language_info": {
   "codemirror_mode": {
    "name": "ipython",
    "version": 3
   },
   "file_extension": ".py",
   "mimetype": "text/x-python",
   "name": "python",
   "nbconvert_exporter": "python",
   "pygments_lexer": "ipython3",
   "version": "3.10.10"
  }
 },
 "nbformat": 4,
 "nbformat_minor": 5
}
